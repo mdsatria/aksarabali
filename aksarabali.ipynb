{
  "nbformat": 4,
  "nbformat_minor": 0,
  "metadata": {
    "colab": {
      "name": "aksarabali.ipynb",
      "provenance": [],
      "collapsed_sections": [],
      "toc_visible": true
    },
    "kernelspec": {
      "name": "python3",
      "display_name": "Python 3"
    },
    "accelerator": "GPU",
    "widgets": {
      "application/vnd.jupyter.widget-state+json": {
        "24e2ee8fc91343a088613c0c1a608927": {
          "model_module": "@jupyter-widgets/controls",
          "model_name": "HBoxModel",
          "state": {
            "_view_name": "HBoxView",
            "_dom_classes": [],
            "_model_name": "HBoxModel",
            "_view_module": "@jupyter-widgets/controls",
            "_model_module_version": "1.5.0",
            "_view_count": null,
            "_view_module_version": "1.5.0",
            "box_style": "",
            "layout": "IPY_MODEL_49efe0bbbc904fea99cd264ce064de87",
            "_model_module": "@jupyter-widgets/controls",
            "children": [
              "IPY_MODEL_eaa97a54ed1d4c0985dd37dfc7decc79",
              "IPY_MODEL_018a8219e69b4135905b46e276487b4c"
            ]
          }
        },
        "49efe0bbbc904fea99cd264ce064de87": {
          "model_module": "@jupyter-widgets/base",
          "model_name": "LayoutModel",
          "state": {
            "_view_name": "LayoutView",
            "grid_template_rows": null,
            "right": null,
            "justify_content": null,
            "_view_module": "@jupyter-widgets/base",
            "overflow": null,
            "_model_module_version": "1.2.0",
            "_view_count": null,
            "flex_flow": null,
            "width": null,
            "min_width": null,
            "border": null,
            "align_items": null,
            "bottom": null,
            "_model_module": "@jupyter-widgets/base",
            "top": null,
            "grid_column": null,
            "overflow_y": null,
            "overflow_x": null,
            "grid_auto_flow": null,
            "grid_area": null,
            "grid_template_columns": null,
            "flex": null,
            "_model_name": "LayoutModel",
            "justify_items": null,
            "grid_row": null,
            "max_height": null,
            "align_content": null,
            "visibility": null,
            "align_self": null,
            "height": null,
            "min_height": null,
            "padding": null,
            "grid_auto_rows": null,
            "grid_gap": null,
            "max_width": null,
            "order": null,
            "_view_module_version": "1.2.0",
            "grid_template_areas": null,
            "object_position": null,
            "object_fit": null,
            "grid_auto_columns": null,
            "margin": null,
            "display": null,
            "left": null
          }
        },
        "eaa97a54ed1d4c0985dd37dfc7decc79": {
          "model_module": "@jupyter-widgets/controls",
          "model_name": "FloatProgressModel",
          "state": {
            "_view_name": "ProgressView",
            "style": "IPY_MODEL_0572bac0dd5743b191651f77278a4467",
            "_dom_classes": [],
            "description": "100%",
            "_model_name": "FloatProgressModel",
            "bar_style": "success",
            "max": 102502400,
            "_view_module": "@jupyter-widgets/controls",
            "_model_module_version": "1.5.0",
            "value": 102502400,
            "_view_count": null,
            "_view_module_version": "1.5.0",
            "orientation": "horizontal",
            "min": 0,
            "description_tooltip": null,
            "_model_module": "@jupyter-widgets/controls",
            "layout": "IPY_MODEL_1bcdf07615d9423d8fe8266a370db94c"
          }
        },
        "018a8219e69b4135905b46e276487b4c": {
          "model_module": "@jupyter-widgets/controls",
          "model_name": "HTMLModel",
          "state": {
            "_view_name": "HTMLView",
            "style": "IPY_MODEL_a23cdf32c1164835bb34bf6b7004dd0f",
            "_dom_classes": [],
            "description": "",
            "_model_name": "HTMLModel",
            "placeholder": "​",
            "_view_module": "@jupyter-widgets/controls",
            "_model_module_version": "1.5.0",
            "value": " 97.8M/97.8M [00:10&lt;00:00, 9.93MB/s]",
            "_view_count": null,
            "_view_module_version": "1.5.0",
            "description_tooltip": null,
            "_model_module": "@jupyter-widgets/controls",
            "layout": "IPY_MODEL_0aff220c9740414d8b504338c49a7bc6"
          }
        },
        "0572bac0dd5743b191651f77278a4467": {
          "model_module": "@jupyter-widgets/controls",
          "model_name": "ProgressStyleModel",
          "state": {
            "_view_name": "StyleView",
            "_model_name": "ProgressStyleModel",
            "description_width": "initial",
            "_view_module": "@jupyter-widgets/base",
            "_model_module_version": "1.5.0",
            "_view_count": null,
            "_view_module_version": "1.2.0",
            "bar_color": null,
            "_model_module": "@jupyter-widgets/controls"
          }
        },
        "1bcdf07615d9423d8fe8266a370db94c": {
          "model_module": "@jupyter-widgets/base",
          "model_name": "LayoutModel",
          "state": {
            "_view_name": "LayoutView",
            "grid_template_rows": null,
            "right": null,
            "justify_content": null,
            "_view_module": "@jupyter-widgets/base",
            "overflow": null,
            "_model_module_version": "1.2.0",
            "_view_count": null,
            "flex_flow": null,
            "width": null,
            "min_width": null,
            "border": null,
            "align_items": null,
            "bottom": null,
            "_model_module": "@jupyter-widgets/base",
            "top": null,
            "grid_column": null,
            "overflow_y": null,
            "overflow_x": null,
            "grid_auto_flow": null,
            "grid_area": null,
            "grid_template_columns": null,
            "flex": null,
            "_model_name": "LayoutModel",
            "justify_items": null,
            "grid_row": null,
            "max_height": null,
            "align_content": null,
            "visibility": null,
            "align_self": null,
            "height": null,
            "min_height": null,
            "padding": null,
            "grid_auto_rows": null,
            "grid_gap": null,
            "max_width": null,
            "order": null,
            "_view_module_version": "1.2.0",
            "grid_template_areas": null,
            "object_position": null,
            "object_fit": null,
            "grid_auto_columns": null,
            "margin": null,
            "display": null,
            "left": null
          }
        },
        "a23cdf32c1164835bb34bf6b7004dd0f": {
          "model_module": "@jupyter-widgets/controls",
          "model_name": "DescriptionStyleModel",
          "state": {
            "_view_name": "StyleView",
            "_model_name": "DescriptionStyleModel",
            "description_width": "",
            "_view_module": "@jupyter-widgets/base",
            "_model_module_version": "1.5.0",
            "_view_count": null,
            "_view_module_version": "1.2.0",
            "_model_module": "@jupyter-widgets/controls"
          }
        },
        "0aff220c9740414d8b504338c49a7bc6": {
          "model_module": "@jupyter-widgets/base",
          "model_name": "LayoutModel",
          "state": {
            "_view_name": "LayoutView",
            "grid_template_rows": null,
            "right": null,
            "justify_content": null,
            "_view_module": "@jupyter-widgets/base",
            "overflow": null,
            "_model_module_version": "1.2.0",
            "_view_count": null,
            "flex_flow": null,
            "width": null,
            "min_width": null,
            "border": null,
            "align_items": null,
            "bottom": null,
            "_model_module": "@jupyter-widgets/base",
            "top": null,
            "grid_column": null,
            "overflow_y": null,
            "overflow_x": null,
            "grid_auto_flow": null,
            "grid_area": null,
            "grid_template_columns": null,
            "flex": null,
            "_model_name": "LayoutModel",
            "justify_items": null,
            "grid_row": null,
            "max_height": null,
            "align_content": null,
            "visibility": null,
            "align_self": null,
            "height": null,
            "min_height": null,
            "padding": null,
            "grid_auto_rows": null,
            "grid_gap": null,
            "max_width": null,
            "order": null,
            "_view_module_version": "1.2.0",
            "grid_template_areas": null,
            "object_position": null,
            "object_fit": null,
            "grid_auto_columns": null,
            "margin": null,
            "display": null,
            "left": null
          }
        }
      }
    }
  },
  "cells": [
    {
      "cell_type": "code",
      "metadata": {
        "id": "b0bjmo5tZJxi",
        "colab_type": "code",
        "colab": {
          "base_uri": "https://localhost:8080/",
          "height": 125
        },
        "outputId": "8c62e480-6fa7-467b-8d4c-a8d756407bd4"
      },
      "source": [
        "from google.colab import drive\n",
        "drive.mount('/content/gdrive')"
      ],
      "execution_count": 1,
      "outputs": [
        {
          "output_type": "stream",
          "text": [
            "Go to this URL in a browser: https://accounts.google.com/o/oauth2/auth?client_id=947318989803-6bn6qk8qdgf4n4g3pfee6491hc0brc4i.apps.googleusercontent.com&redirect_uri=urn%3aietf%3awg%3aoauth%3a2.0%3aoob&scope=email%20https%3a%2f%2fwww.googleapis.com%2fauth%2fdocs.test%20https%3a%2f%2fwww.googleapis.com%2fauth%2fdrive%20https%3a%2f%2fwww.googleapis.com%2fauth%2fdrive.photos.readonly%20https%3a%2f%2fwww.googleapis.com%2fauth%2fpeopleapi.readonly&response_type=code\n",
            "\n",
            "Enter your authorization code:\n",
            "··········\n",
            "Mounted at /content/gdrive\n"
          ],
          "name": "stdout"
        }
      ]
    },
    {
      "cell_type": "code",
      "metadata": {
        "id": "1mbN70L2ZMYi",
        "colab_type": "code",
        "colab": {}
      },
      "source": [
        "!unzip -qq \"gdrive/My Drive/research/train.zip\"\n",
        "!unzip -qq \"gdrive/My Drive/research/test.zip\""
      ],
      "execution_count": 2,
      "outputs": []
    },
    {
      "cell_type": "code",
      "metadata": {
        "id": "EsgaXbGFfvkZ",
        "colab_type": "code",
        "colab": {
          "base_uri": "https://localhost:8080/",
          "height": 52
        },
        "outputId": "134bfd7e-7110-4a96-ced5-7d5f49833ce7"
      },
      "source": [
        "import torch\n",
        "print(torch.cuda.device_count())\n",
        "print(torch.cuda.get_device_name(0))"
      ],
      "execution_count": 3,
      "outputs": [
        {
          "output_type": "stream",
          "text": [
            "1\n",
            "Tesla P100-PCIE-16GB\n"
          ],
          "name": "stdout"
        }
      ]
    },
    {
      "cell_type": "code",
      "metadata": {
        "id": "M9yGfH1QaDx7",
        "colab_type": "code",
        "colab": {}
      },
      "source": [
        "import os\n",
        "import pandas as pd\n",
        "import torch\n",
        "#from sklearn import preprocessing\n",
        "\n",
        "from PIL import Image\n",
        "from torch.utils.data import Dataset\n",
        "\n",
        "class AksaraBali(Dataset):\n",
        "    def __init__(self, csv_file, root_dir, transform=None):\n",
        "        self.annotations = pd.read_csv(csv_file, header=None)\n",
        "        self.root_dir = root_dir\n",
        "        self.transform = transform\n",
        "       \n",
        "    def __len__(self):\n",
        "        return len(self.annotations)\n",
        "    \n",
        "    def __getitem__(self, index):\n",
        "        img_path = os.path.join(self.root_dir, self.annotations.iloc[index,0])\n",
        "        image = Image.open(img_path).resize((224, 224))\n",
        "        y_label = torch.tensor(self.annotations.iloc[index,2], dtype=torch.long)\n",
        "        \n",
        "        if self.transform:\n",
        "            image = self.transform(image)\n",
        "            \n",
        "        return(image, y_label)"
      ],
      "execution_count": 4,
      "outputs": []
    },
    {
      "cell_type": "code",
      "metadata": {
        "id": "P_c8VjkaaJuD",
        "colab_type": "code",
        "colab": {
          "base_uri": "https://localhost:8080/",
          "height": 84,
          "referenced_widgets": [
            "24e2ee8fc91343a088613c0c1a608927",
            "49efe0bbbc904fea99cd264ce064de87",
            "eaa97a54ed1d4c0985dd37dfc7decc79",
            "018a8219e69b4135905b46e276487b4c",
            "0572bac0dd5743b191651f77278a4467",
            "1bcdf07615d9423d8fe8266a370db94c",
            "a23cdf32c1164835bb34bf6b7004dd0f",
            "0aff220c9740414d8b504338c49a7bc6"
          ]
        },
        "outputId": "349528b9-44a9-4e25-d98c-fa3380760b30"
      },
      "source": [
        "import torch\n",
        "import torchvision\n",
        "import torch.nn as nn\n",
        "import torch.nn.functional as F\n",
        "import torch.optim as optim\n",
        "import torchvision.transforms as transforms\n",
        "from torch.utils.data import DataLoader\n",
        "\n",
        "#device = torch.device(\"cuda\" if torch.cuda.is_available() else \"cpu\")\n",
        "\n",
        "def check_accuracy(loader, model, acc_type):\n",
        "    num_correct = 0\n",
        "    num_samples = 0\n",
        "    model.eval()\n",
        "    \n",
        "    with torch.no_grad():\n",
        "        for x, y in loader:\n",
        "            x = x.to(device='cuda:0')\n",
        "            y = y.to(device='cuda:0')\n",
        "            \n",
        "            scores = model(x)\n",
        "            _, predictions = scores.max(1)\n",
        "            num_correct += (predictions == y).sum()\n",
        "            num_samples += predictions.size(0)\n",
        "        \n",
        "        print(f'{acc_type} got {num_correct} / {num_samples} with accuracy {float(num_correct)/float(num_samples)*100:.2f}') \n",
        "    \n",
        "    model.train()\n",
        "    \n",
        "in_channel = 3 \n",
        "num_classes = 133\n",
        "learning_rate = 0.001\n",
        "batch_size = 64\n",
        "num_epoch = 250\n",
        "\n",
        "# tranform\n",
        "my_transform = transforms.Compose([transforms.ToTensor(),\n",
        "                                   transforms.Normalize(mean=(0.5005, 0.4670, 0.4174), std=(0.0813, 0.0534, 0.0932))])\n",
        "\n",
        "train_set = AksaraBali(csv_file=\"gdrive/My Drive/research/train_label.csv\",\n",
        "                       root_dir=\"train\",\n",
        "                       transform=my_transform)\n",
        "\n",
        "test_set = AksaraBali(csv_file=\"gdrive/My Drive/research/test_label.csv\",\n",
        "                       root_dir=\"test_image_random\",\n",
        "                       transform=my_transform)\n",
        "\n",
        "#train_set = torch.utils.data(dataset)\n",
        "train_loader = DataLoader(dataset=train_set,\n",
        "                          batch_size=batch_size,\n",
        "                          shuffle=True)\n",
        "\n",
        "test_loader = DataLoader(dataset=test_set,\n",
        "                          shuffle=False,\n",
        "                         batch_size=batch_size)\n",
        "#test_loader = DataLoader(dataset=test_set, batch_size=batch_size, shuffle=True)\n",
        "\n",
        "model = torchvision.models.resnet50(pretrained=True)\n",
        "model.to('cuda:0')\n",
        "\n",
        "criterion = nn.CrossEntropyLoss()\n",
        "optimizer = optim.Adam(model.parameters(), lr=learning_rate)\n",
        "\n",
        "for epoch in range(num_epoch):\n",
        "    losses = []\n",
        "    \n",
        "    for batch_idx, (data, targets) in enumerate(train_loader):\n",
        "        # get data to cuda\n",
        "        data = data.to(device='cuda:0')\n",
        "        targets = targets.to(device='cuda:0')\n",
        "        \n",
        "        # forward\n",
        "        scores = model(data)\n",
        "        loss = criterion(scores, targets)\n",
        "        \n",
        "        losses.append(loss.item())\n",
        "        \n",
        "        # backward\n",
        "        optimizer.zero_grad()\n",
        "        loss.backward()\n",
        "        \n",
        "        # gradient descent or adam step\n",
        "        optimizer.step()\n",
        "    \n",
        "    print(f'Cost at epoch {epoch+1} is {sum(losses)/len(losses)}')\n",
        "    check_accuracy(train_loader, model, \"Train accuracy \")\n",
        "    check_accuracy(test_loader, model, \"Test accuracy \")\n",
        "   \n",
        "#torch.save(model, \"model1810.pt\")"
      ],
      "execution_count": null,
      "outputs": [
        {
          "output_type": "stream",
          "text": [
            "Downloading: \"https://download.pytorch.org/models/resnet50-19c8e357.pth\" to /root/.cache/torch/hub/checkpoints/resnet50-19c8e357.pth\n"
          ],
          "name": "stderr"
        },
        {
          "output_type": "display_data",
          "data": {
            "application/vnd.jupyter.widget-view+json": {
              "model_id": "24e2ee8fc91343a088613c0c1a608927",
              "version_minor": 0,
              "version_major": 2
            },
            "text/plain": [
              "HBox(children=(FloatProgress(value=0.0, max=102502400.0), HTML(value='')))"
            ]
          },
          "metadata": {
            "tags": []
          }
        },
        {
          "output_type": "stream",
          "text": [
            "\n"
          ],
          "name": "stdout"
        }
      ]
    },
    {
      "cell_type": "code",
      "metadata": {
        "id": "yo2cM1mVxQ4W",
        "colab_type": "code",
        "colab": {}
      },
      "source": [
        ""
      ],
      "execution_count": null,
      "outputs": []
    },
    {
      "cell_type": "code",
      "metadata": {
        "id": "0hsPQd-hxPt0",
        "colab_type": "code",
        "colab": {}
      },
      "source": [
        ""
      ],
      "execution_count": null,
      "outputs": []
    },
    {
      "cell_type": "markdown",
      "metadata": {
        "id": "-NxkmTkA6ZxJ",
        "colab_type": "text"
      },
      "source": [
        "## RESNET18 64batch \n",
        "\n",
        "Cost at epoch 0 is 0.9688131187935002\n",
        "Got 6736 / 7673 with accuracy 87.79\n",
        "Cost at epoch 1 is 0.19390780546774083\n",
        "Got 6714 / 7673 with accuracy 87.50\n",
        "Cost at epoch 2 is 0.11893820669725895\n",
        "Got 6643 / 7673 with accuracy 86.58\n",
        "Cost at epoch 3 is 0.08210397435155195\n",
        "Got 6742 / 7673 with accuracy 87.87\n",
        "Cost at epoch 4 is 0.07016220813182791\n",
        "Got 6701 / 7673 with accuracy 87.33\n",
        "Cost at epoch 5 is 0.07725537565308443\n",
        "Got 6755 / 7673 with accuracy 88.04\n",
        "Cost at epoch 6 is 0.04713408879167848\n",
        "Got 6872 / 7673 with accuracy 89.56\n",
        "Cost at epoch 7 is 0.03732098474770632\n",
        "Got 6632 / 7673 with accuracy 86.43\n",
        "Cost at epoch 8 is 0.05611207986378129\n",
        "Got 6836 / 7673 with accuracy 89.09\n",
        "Cost at epoch 9 is 0.03829338655626858\n",
        "Got 6806 / 7673 with accuracy 88.70\n",
        "Cost at epoch 10 is 0.02294694669371193\n",
        "Got 6709 / 7673 with accuracy 87.44\n",
        "Cost at epoch 11 is 0.04540037233276122\n",
        "Got 6868 / 7673 with accuracy 89.51\n",
        "Cost at epoch 12 is 0.025756649938837375\n",
        "Got 6775 / 7673 with accuracy 88.30\n",
        "Cost at epoch 13 is 0.045317758210260836\n",
        "Got 6873 / 7673 with accuracy 89.57\n",
        "Cost at epoch 14 is 0.025782721148901216\n",
        "Got 6997 / 7673 with accuracy 91.19\n",
        "Cost at epoch 15 is 0.019851571001219363\n",
        "Got 6988 / 7673 with accuracy 91.07\n",
        "Cost at epoch 16 is 0.03279321799664103\n",
        "Got 6806 / 7673 with accuracy 88.70\n",
        "Cost at epoch 17 is 0.025503783545655797\n",
        "Got 6927 / 7673 with accuracy 90.28\n",
        "Cost at epoch 18 is 0.018462478041048877\n",
        "Got 6820 / 7673 with accuracy 88.88\n",
        "Cost at epoch 19 is 0.015971610776659872\n",
        "Got 6858 / 7673 with accuracy 89.38"
      ]
    },
    {
      "cell_type": "markdown",
      "metadata": {
        "id": "Md4p7wyHXZXp",
        "colab_type": "text"
      },
      "source": [
        "## RESNET50 64batch\n",
        "\n",
        "Cost at epoch 0 is 1.6738578614492257\n",
        "Got 6211 / 7673 with accuracy 80.95\n",
        "Cost at epoch 1 is 0.36827098748360115\n",
        "Got 6544 / 7673 with accuracy 85.29\n",
        "Cost at epoch 2 is 0.25158401710303646\n",
        "Got 6610 / 7673 with accuracy 86.15\n",
        "Cost at epoch 3 is 0.17947401306054628\n",
        "Got 6743 / 7673 with accuracy 87.88\n",
        "Cost at epoch 4 is 0.1432143427306213\n",
        "Got 6773 / 7673 with accuracy 88.27\n",
        "Cost at epoch 5 is 0.13597131141040547\n",
        "Got 6726 / 7673 with accuracy 87.66\n",
        "Cost at epoch 6 is 0.11176422449016872\n",
        "Got 6490 / 7673 with accuracy 84.58\n",
        "Cost at epoch 7 is 0.10507807311995958\n",
        "Got 6794 / 7673 with accuracy 88.54\n",
        "Cost at epoch 8 is 0.09668087263148314\n",
        "Got 6698 / 7673 with accuracy 87.29\n",
        "Cost at epoch 9 is 0.08156323406393103\n",
        "Got 6752 / 7673 with accuracy 88.00\n",
        "Cost at epoch 10 is 0.07199856584954362\n",
        "Got 6663 / 7673 with accuracy 86.84\n",
        "Cost at epoch 11 is 0.05500387307424367\n",
        "Got 6865 / 7673 with accuracy 89.47\n",
        "Cost at epoch 12 is 0.06714401380192542\n",
        "Got 6702 / 7673 with accuracy 87.35\n",
        "Cost at epoch 13 is 0.061244949316460406\n",
        "Got 6830 / 7673 with accuracy 89.01\n",
        "Cost at epoch 14 is 0.054343251238326326\n",
        "Got 6810 / 7673 with accuracy 88.75\n",
        "Cost at epoch 15 is 0.028602998786062435\n",
        "Got 6910 / 7673 with accuracy 90.06\n",
        "Cost at epoch 16 is 0.03473353769662096\n",
        "Got 6715 / 7673 with accuracy 87.51\n",
        "Cost at epoch 17 is 0.07053846819186359\n",
        "Got 6876 / 7673 with accuracy 89.61\n",
        "Cost at epoch 18 is 0.034487076096691174\n",
        "Got 6884 / 7673 with accuracy 89.72\n",
        "Cost at epoch 19 is 0.03011074804117715\n",
        "Got 6869 / 7673 with accuracy 89.52"
      ]
    },
    {
      "cell_type": "code",
      "metadata": {
        "id": "Ku186N06csvZ",
        "colab_type": "code",
        "colab": {}
      },
      "source": [
        "Cost at epoch 0 is 2.5648221334872336\n",
        "Got 4492 / 7673 with accuracy 58.54\n",
        "Cost at epoch 1 is 0.491350577893452\n",
        "Got 6114 / 7673 with accuracy 79.68\n",
        "Cost at epoch 2 is 0.2690148636734543\n",
        "Got 6514 / 7673 with accuracy 84.90\n",
        "Cost at epoch 3 is 0.17898910222216868\n",
        "Got 6769 / 7673 with accuracy 88.22\n",
        "Cost at epoch 4 is 0.13287136268515426\n",
        "Got 6688 / 7673 with accuracy 87.16\n",
        "Cost at epoch 5 is 0.09830330490009286\n",
        "Got 6572 / 7673 with accuracy 85.65\n",
        "Cost at epoch 6 is 0.08001060093206783\n",
        "Got 6422 / 7673 with accuracy 83.70\n",
        "Cost at epoch 7 is 0.073534333491877\n",
        "Got 6796 / 7673 with accuracy 88.57\n",
        "Cost at epoch 8 is 0.0541052408874608\n",
        "Got 6557 / 7673 with accuracy 85.46\n",
        "Cost at epoch 9 is 0.056478030669565596\n",
        "Got 6713 / 7673 with accuracy 87.49\n",
        "Cost at epoch 10 is 0.05494157571117215\n",
        "Got 6632 / 7673 with accuracy 86.43\n",
        "Cost at epoch 11 is 0.039811522962386686"
      ],
      "execution_count": null,
      "outputs": []
    }
  ]
}