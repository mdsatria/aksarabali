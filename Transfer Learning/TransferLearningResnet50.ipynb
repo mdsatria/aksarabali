{
  "nbformat": 4,
  "nbformat_minor": 0,
  "metadata": {
    "colab": {
      "name": "aksarabali.ipynb",
      "provenance": [],
      "collapsed_sections": [],
      "include_colab_link": true
    },
    "kernelspec": {
      "name": "python3",
      "display_name": "Python 3"
    },
    "accelerator": "GPU",
    "widgets": {
      "application/vnd.jupyter.widget-state+json": {
        "9f542cc261cc4577ba24ce630498eca7": {
          "model_module": "@jupyter-widgets/controls",
          "model_name": "HBoxModel",
          "state": {
            "_view_name": "HBoxView",
            "_dom_classes": [],
            "_model_name": "HBoxModel",
            "_view_module": "@jupyter-widgets/controls",
            "_model_module_version": "1.5.0",
            "_view_count": null,
            "_view_module_version": "1.5.0",
            "box_style": "",
            "layout": "IPY_MODEL_7f1e0b99846047da9ff56a17399a8141",
            "_model_module": "@jupyter-widgets/controls",
            "children": [
              "IPY_MODEL_f4fc8bb7a74246dfa46a5f7c82475697",
              "IPY_MODEL_41d08b4601eb4b01b14f219b253d1db0"
            ]
          }
        },
        "7f1e0b99846047da9ff56a17399a8141": {
          "model_module": "@jupyter-widgets/base",
          "model_name": "LayoutModel",
          "state": {
            "_view_name": "LayoutView",
            "grid_template_rows": null,
            "right": null,
            "justify_content": null,
            "_view_module": "@jupyter-widgets/base",
            "overflow": null,
            "_model_module_version": "1.2.0",
            "_view_count": null,
            "flex_flow": null,
            "width": null,
            "min_width": null,
            "border": null,
            "align_items": null,
            "bottom": null,
            "_model_module": "@jupyter-widgets/base",
            "top": null,
            "grid_column": null,
            "overflow_y": null,
            "overflow_x": null,
            "grid_auto_flow": null,
            "grid_area": null,
            "grid_template_columns": null,
            "flex": null,
            "_model_name": "LayoutModel",
            "justify_items": null,
            "grid_row": null,
            "max_height": null,
            "align_content": null,
            "visibility": null,
            "align_self": null,
            "height": null,
            "min_height": null,
            "padding": null,
            "grid_auto_rows": null,
            "grid_gap": null,
            "max_width": null,
            "order": null,
            "_view_module_version": "1.2.0",
            "grid_template_areas": null,
            "object_position": null,
            "object_fit": null,
            "grid_auto_columns": null,
            "margin": null,
            "display": null,
            "left": null
          }
        },
        "f4fc8bb7a74246dfa46a5f7c82475697": {
          "model_module": "@jupyter-widgets/controls",
          "model_name": "FloatProgressModel",
          "state": {
            "_view_name": "ProgressView",
            "style": "IPY_MODEL_f1a695ee377f4f0fbb1aa4c8d1316892",
            "_dom_classes": [],
            "description": "100%",
            "_model_name": "FloatProgressModel",
            "bar_style": "success",
            "max": 100441675,
            "_view_module": "@jupyter-widgets/controls",
            "_model_module_version": "1.5.0",
            "value": 100441675,
            "_view_count": null,
            "_view_module_version": "1.5.0",
            "orientation": "horizontal",
            "min": 0,
            "description_tooltip": null,
            "_model_module": "@jupyter-widgets/controls",
            "layout": "IPY_MODEL_6fb68b6b4161412db6c23ee19b219287"
          }
        },
        "41d08b4601eb4b01b14f219b253d1db0": {
          "model_module": "@jupyter-widgets/controls",
          "model_name": "HTMLModel",
          "state": {
            "_view_name": "HTMLView",
            "style": "IPY_MODEL_d8315f14b5ec446faa41647b2f98869c",
            "_dom_classes": [],
            "description": "",
            "_model_name": "HTMLModel",
            "placeholder": "​",
            "_view_module": "@jupyter-widgets/controls",
            "_model_module_version": "1.5.0",
            "value": " 95.8M/95.8M [10:12&lt;00:00, 164kB/s]",
            "_view_count": null,
            "_view_module_version": "1.5.0",
            "description_tooltip": null,
            "_model_module": "@jupyter-widgets/controls",
            "layout": "IPY_MODEL_a215ba2782d1481990ee8fa7dd4e1442"
          }
        },
        "f1a695ee377f4f0fbb1aa4c8d1316892": {
          "model_module": "@jupyter-widgets/controls",
          "model_name": "ProgressStyleModel",
          "state": {
            "_view_name": "StyleView",
            "_model_name": "ProgressStyleModel",
            "description_width": "initial",
            "_view_module": "@jupyter-widgets/base",
            "_model_module_version": "1.5.0",
            "_view_count": null,
            "_view_module_version": "1.2.0",
            "bar_color": null,
            "_model_module": "@jupyter-widgets/controls"
          }
        },
        "6fb68b6b4161412db6c23ee19b219287": {
          "model_module": "@jupyter-widgets/base",
          "model_name": "LayoutModel",
          "state": {
            "_view_name": "LayoutView",
            "grid_template_rows": null,
            "right": null,
            "justify_content": null,
            "_view_module": "@jupyter-widgets/base",
            "overflow": null,
            "_model_module_version": "1.2.0",
            "_view_count": null,
            "flex_flow": null,
            "width": null,
            "min_width": null,
            "border": null,
            "align_items": null,
            "bottom": null,
            "_model_module": "@jupyter-widgets/base",
            "top": null,
            "grid_column": null,
            "overflow_y": null,
            "overflow_x": null,
            "grid_auto_flow": null,
            "grid_area": null,
            "grid_template_columns": null,
            "flex": null,
            "_model_name": "LayoutModel",
            "justify_items": null,
            "grid_row": null,
            "max_height": null,
            "align_content": null,
            "visibility": null,
            "align_self": null,
            "height": null,
            "min_height": null,
            "padding": null,
            "grid_auto_rows": null,
            "grid_gap": null,
            "max_width": null,
            "order": null,
            "_view_module_version": "1.2.0",
            "grid_template_areas": null,
            "object_position": null,
            "object_fit": null,
            "grid_auto_columns": null,
            "margin": null,
            "display": null,
            "left": null
          }
        },
        "d8315f14b5ec446faa41647b2f98869c": {
          "model_module": "@jupyter-widgets/controls",
          "model_name": "DescriptionStyleModel",
          "state": {
            "_view_name": "StyleView",
            "_model_name": "DescriptionStyleModel",
            "description_width": "",
            "_view_module": "@jupyter-widgets/base",
            "_model_module_version": "1.5.0",
            "_view_count": null,
            "_view_module_version": "1.2.0",
            "_model_module": "@jupyter-widgets/controls"
          }
        },
        "a215ba2782d1481990ee8fa7dd4e1442": {
          "model_module": "@jupyter-widgets/base",
          "model_name": "LayoutModel",
          "state": {
            "_view_name": "LayoutView",
            "grid_template_rows": null,
            "right": null,
            "justify_content": null,
            "_view_module": "@jupyter-widgets/base",
            "overflow": null,
            "_model_module_version": "1.2.0",
            "_view_count": null,
            "flex_flow": null,
            "width": null,
            "min_width": null,
            "border": null,
            "align_items": null,
            "bottom": null,
            "_model_module": "@jupyter-widgets/base",
            "top": null,
            "grid_column": null,
            "overflow_y": null,
            "overflow_x": null,
            "grid_auto_flow": null,
            "grid_area": null,
            "grid_template_columns": null,
            "flex": null,
            "_model_name": "LayoutModel",
            "justify_items": null,
            "grid_row": null,
            "max_height": null,
            "align_content": null,
            "visibility": null,
            "align_self": null,
            "height": null,
            "min_height": null,
            "padding": null,
            "grid_auto_rows": null,
            "grid_gap": null,
            "max_width": null,
            "order": null,
            "_view_module_version": "1.2.0",
            "grid_template_areas": null,
            "object_position": null,
            "object_fit": null,
            "grid_auto_columns": null,
            "margin": null,
            "display": null,
            "left": null
          }
        }
      }
    }
  },
  "cells": [
    {
      "cell_type": "markdown",
      "metadata": {
        "id": "view-in-github",
        "colab_type": "text"
      },
      "source": [
        "<a href=\"https://colab.research.google.com/github/mdsatria/aksarabali/blob/update/Transfer%20Learning/TransferLearningResnet50.ipynb\" target=\"_parent\"><img src=\"https://colab.research.google.com/assets/colab-badge.svg\" alt=\"Open In Colab\"/></a>"
      ]
    },
    {
      "cell_type": "code",
      "metadata": {
        "id": "xj3sl6BwTqln",
        "colab_type": "code",
        "colab": {
          "base_uri": "https://localhost:8080/",
          "height": 195
        },
        "outputId": "ff9d0f4c-14f2-458d-cc13-fb1c1f2bc608"
      },
      "source": [
        "!pip install pytorch-ignite"
      ],
      "execution_count": 1,
      "outputs": [
        {
          "output_type": "stream",
          "text": [
            "Collecting pytorch-ignite\n",
            "\u001b[?25l  Downloading https://files.pythonhosted.org/packages/c0/8e/08569347023611e40e62a14162024ca6238d42cb528b2302f84d662a2033/pytorch_ignite-0.4.1-py2.py3-none-any.whl (166kB)\n",
            "\r\u001b[K     |██                              | 10kB 16.6MB/s eta 0:00:01\r\u001b[K     |████                            | 20kB 6.1MB/s eta 0:00:01\r\u001b[K     |██████                          | 30kB 6.9MB/s eta 0:00:01\r\u001b[K     |███████▉                        | 40kB 5.5MB/s eta 0:00:01\r\u001b[K     |█████████▉                      | 51kB 5.0MB/s eta 0:00:01\r\u001b[K     |███████████▉                    | 61kB 4.7MB/s eta 0:00:01\r\u001b[K     |█████████████▊                  | 71kB 4.9MB/s eta 0:00:01\r\u001b[K     |███████████████▊                | 81kB 5.0MB/s eta 0:00:01\r\u001b[K     |█████████████████▊              | 92kB 4.9MB/s eta 0:00:01\r\u001b[K     |███████████████████▋            | 102kB 5.1MB/s eta 0:00:01\r\u001b[K     |█████████████████████▋          | 112kB 5.1MB/s eta 0:00:01\r\u001b[K     |███████████████████████▋        | 122kB 5.1MB/s eta 0:00:01\r\u001b[K     |█████████████████████████▌      | 133kB 5.1MB/s eta 0:00:01\r\u001b[K     |███████████████████████████▌    | 143kB 5.1MB/s eta 0:00:01\r\u001b[K     |█████████████████████████████▌  | 153kB 5.1MB/s eta 0:00:01\r\u001b[K     |███████████████████████████████▌| 163kB 5.1MB/s eta 0:00:01\r\u001b[K     |████████████████████████████████| 174kB 5.1MB/s \n",
            "\u001b[?25hRequirement already satisfied: torch<2,>=1.3 in /usr/local/lib/python3.6/dist-packages (from pytorch-ignite) (1.6.0+cu101)\n",
            "Requirement already satisfied: numpy in /usr/local/lib/python3.6/dist-packages (from torch<2,>=1.3->pytorch-ignite) (1.18.5)\n",
            "Requirement already satisfied: future in /usr/local/lib/python3.6/dist-packages (from torch<2,>=1.3->pytorch-ignite) (0.16.0)\n",
            "Installing collected packages: pytorch-ignite\n",
            "Successfully installed pytorch-ignite-0.4.1\n"
          ],
          "name": "stdout"
        }
      ]
    },
    {
      "cell_type": "code",
      "metadata": {
        "id": "b0bjmo5tZJxi",
        "colab_type": "code",
        "colab": {
          "base_uri": "https://localhost:8080/",
          "height": 34
        },
        "outputId": "89a16e41-8c12-4e97-acb9-b047def7c6b9"
      },
      "source": [
        "from google.colab import drive\n",
        "drive.mount('/content/gdrive')"
      ],
      "execution_count": 3,
      "outputs": [
        {
          "output_type": "stream",
          "text": [
            "Mounted at /content/gdrive\n"
          ],
          "name": "stdout"
        }
      ]
    },
    {
      "cell_type": "code",
      "metadata": {
        "id": "1mbN70L2ZMYi",
        "colab_type": "code",
        "colab": {}
      },
      "source": [
        "!unzip -qq \"gdrive/My Drive/Colab Notebooks/dataset/Aksara Bali/train.zip\"\n",
        "!unzip -qq \"gdrive/My Drive/Colab Notebooks/dataset/Aksara Bali/test.zip\""
      ],
      "execution_count": 4,
      "outputs": []
    },
    {
      "cell_type": "code",
      "metadata": {
        "id": "cFuS94x2TmHQ",
        "colab_type": "code",
        "colab": {}
      },
      "source": [
        "import os\n",
        "import pandas as pd\n",
        "from PIL import Image\n",
        "import torch\n",
        "import torchvision\n",
        "import torch.nn as nn\n",
        "import torch.nn.functional as F\n",
        "import torch.optim as optim\n",
        "import torchvision.transforms as transforms\n",
        "from torch.utils.data import DataLoader, Dataset\n",
        "from ignite.engine import Events, create_supervised_trainer, create_supervised_evaluator\n",
        "from ignite.metrics import Accuracy, Loss, RunningAverage\n",
        "from ignite.handlers import ModelCheckpoint, EarlyStopping"
      ],
      "execution_count": 5,
      "outputs": []
    },
    {
      "cell_type": "code",
      "metadata": {
        "id": "_zzzSOwdTmHT",
        "colab_type": "code",
        "colab": {
          "base_uri": "https://localhost:8080/",
          "height": 51
        },
        "outputId": "c92de7c5-83c2-452d-e514-3e40d9f24b84"
      },
      "source": [
        "print(torch.cuda.device_count())\n",
        "print(torch.cuda.get_device_name(0))"
      ],
      "execution_count": 6,
      "outputs": [
        {
          "output_type": "stream",
          "text": [
            "1\n",
            "Tesla T4\n"
          ],
          "name": "stdout"
        }
      ]
    },
    {
      "cell_type": "markdown",
      "metadata": {
        "id": "p1CfPfTBTmHY",
        "colab_type": "text"
      },
      "source": [
        "## Data Loader"
      ]
    },
    {
      "cell_type": "code",
      "metadata": {
        "id": "M9yGfH1QaDx7",
        "colab_type": "code",
        "colab": {}
      },
      "source": [
        "class AksaraBali(Dataset):\n",
        "    def __init__(self, csv_file, root_dir, height=224, width=224, transform=None):\n",
        "        self.annotations = pd.read_csv(csv_file, header=None)\n",
        "        self.root_dir = root_dir\n",
        "        self.transform = transform\n",
        "        self.height = height\n",
        "        self.width = width\n",
        "       \n",
        "    def __len__(self):\n",
        "        return len(self.annotations)\n",
        "    \n",
        "    def __getitem__(self, index):\n",
        "        img_path = os.path.join(self.root_dir, self.annotations.iloc[index,0])\n",
        "        image = Image.open(img_path).resize((self.height, self.width))\n",
        "        y_label = torch.tensor(self.annotations.iloc[index,2], dtype=torch.long)\n",
        "        \n",
        "        if self.transform:\n",
        "            image = self.transform(image)\n",
        "            \n",
        "        return(image, y_label)"
      ],
      "execution_count": 7,
      "outputs": []
    },
    {
      "cell_type": "markdown",
      "metadata": {
        "id": "WUd8DXpITmHe",
        "colab_type": "text"
      },
      "source": [
        "## Set Training Params"
      ]
    },
    {
      "cell_type": "code",
      "metadata": {
        "id": "P2ApqPIeTmHf",
        "colab_type": "code",
        "colab": {}
      },
      "source": [
        "in_channel = 3 \n",
        "num_classes = 133\n",
        "learning_rate = 0.001\n",
        "batch_size = 64\n",
        "num_epoch = 250\n",
        "\n",
        "# tranform\n",
        "my_transform = transforms.Compose([transforms.ToTensor(),\n",
        "                                   transforms.Normalize(mean=(0.5005, 0.4670, 0.4174), std=(0.0813, 0.0534, 0.0932))])\n",
        "\n",
        "train_set = AksaraBali(csv_file=\"gdrive/My Drive/Colab Notebooks/dataset/Aksara Bali/train_label.csv\",\n",
        "                       root_dir=\"train\",\n",
        "                       transform=my_transform)\n",
        "\n",
        "test_set = AksaraBali(csv_file=\"gdrive/My Drive/Colab Notebooks/dataset/Aksara Bali/test_label.csv\",\n",
        "                       root_dir=\"test\",\n",
        "                       transform=my_transform)\n",
        "\n",
        "#train_set = torch.utils.data(dataset)\n",
        "train_loader = DataLoader(dataset=train_set,\n",
        "                          batch_size=batch_size,\n",
        "                          shuffle=True)\n",
        "\n",
        "test_loader = DataLoader(dataset=test_set,\n",
        "                          shuffle=False,\n",
        "                         batch_size=batch_size)\n",
        "#test_loader = DataLoader(dataset=test_set, batch_size=batch_size, shuffle=True)"
      ],
      "execution_count": 8,
      "outputs": []
    },
    {
      "cell_type": "code",
      "metadata": {
        "id": "TL2urpO9swZE",
        "colab_type": "code",
        "colab": {
          "base_uri": "https://localhost:8080/",
          "height": 103,
          "referenced_widgets": [
            "9f542cc261cc4577ba24ce630498eca7",
            "7f1e0b99846047da9ff56a17399a8141",
            "f4fc8bb7a74246dfa46a5f7c82475697",
            "41d08b4601eb4b01b14f219b253d1db0",
            "f1a695ee377f4f0fbb1aa4c8d1316892",
            "6fb68b6b4161412db6c23ee19b219287",
            "d8315f14b5ec446faa41647b2f98869c",
            "a215ba2782d1481990ee8fa7dd4e1442"
          ]
        },
        "outputId": "f171c2b9-fa38-43ae-cd75-7e8c56861888"
      },
      "source": [
        "def import_models(str_model_name):\n",
        "  if str_model_name == \"resnet\":\n",
        "    model = torchvision.models.resnet152(pretrained=True)\n",
        "  elif str_model_name == \"vgg\": \n",
        "    model = torchvision.models.vgg16(pretrained=True) \n",
        "  elif str_model_name == \"mobilenet\":\n",
        "    model = torchvision.models.mobilenet_v2(pretrained=True)\n",
        "  elif str_model_name == \"inception\":\n",
        "    model = torchvision.models.inception_v3(pretrained=True)\n",
        "\n",
        "  return model\n",
        "\n",
        "str_model_name = \"resnet50\"\n",
        "model = import_models(str_model_name)"
      ],
      "execution_count": 36,
      "outputs": [
        {
          "output_type": "stream",
          "text": [
            "Downloading: \"https://download.pytorch.org/models/resnext50_32x4d-7cdf4587.pth\" to /root/.cache/torch/hub/checkpoints/resnext50_32x4d-7cdf4587.pth\n"
          ],
          "name": "stderr"
        },
        {
          "output_type": "display_data",
          "data": {
            "application/vnd.jupyter.widget-view+json": {
              "model_id": "9f542cc261cc4577ba24ce630498eca7",
              "version_minor": 0,
              "version_major": 2
            },
            "text/plain": [
              "HBox(children=(FloatProgress(value=0.0, max=100441675.0), HTML(value='')))"
            ]
          },
          "metadata": {
            "tags": []
          }
        },
        {
          "output_type": "stream",
          "text": [
            "\n"
          ],
          "name": "stdout"
        }
      ]
    },
    {
      "cell_type": "code",
      "metadata": {
        "id": "pUvKVqk2w5jw",
        "colab_type": "code",
        "colab": {}
      },
      "source": [
        "gpu = torch.device(\"cuda:0\" if torch.cuda.is_available() else \"cpu\")\n",
        "model.to(gpu)\n",
        "\n",
        "criterion = nn.CrossEntropyLoss()\n",
        "optimizer = optim.Adam(model.parameters(), lr=learning_rate)"
      ],
      "execution_count": 37,
      "outputs": []
    },
    {
      "cell_type": "markdown",
      "metadata": {
        "id": "9GRipDIsTmHm",
        "colab_type": "text"
      },
      "source": [
        "# Train Model pakai Pytorch Ignite\n",
        "\n",
        "Inisiasi Training dan Evaluation Engine"
      ]
    },
    {
      "cell_type": "code",
      "metadata": {
        "id": "m9ui6FcMTmHm",
        "colab_type": "code",
        "colab": {}
      },
      "source": [
        "epochs = 3\n",
        "trainer = create_supervised_trainer(model, optimizer, criterion, device=gpu)\n",
        "metrics = {\n",
        "    \"accuracy\": Accuracy(),\n",
        "    \"loss\": Loss(criterion)\n",
        "}\n",
        "train_evaluator = create_supervised_evaluator(model, metrics=metrics, device=gpu)\n",
        "val_evaluator = create_supervised_evaluator(model, metrics=metrics, device=gpu)\n",
        "training_history = {\"accuracy\":[], \"loss\":[]}\n",
        "validation_history = {\"accuracy\":[], \"loss\":[]}\n",
        "last_epoch = []"
      ],
      "execution_count": 38,
      "outputs": []
    },
    {
      "cell_type": "markdown",
      "metadata": {
        "id": "Gcm3ctomTmHp",
        "colab_type": "text"
      },
      "source": [
        "### Metrics - `RunningAverage`"
      ]
    },
    {
      "cell_type": "code",
      "metadata": {
        "id": "D37VuYdqTmHp",
        "colab_type": "code",
        "colab": {}
      },
      "source": [
        "RunningAverage(output_transform=lambda x: x).attach(trainer, \"loss\")"
      ],
      "execution_count": 39,
      "outputs": []
    },
    {
      "cell_type": "markdown",
      "metadata": {
        "id": "IUc7JJp0TmHs",
        "colab_type": "text"
      },
      "source": [
        "### `EarlyStopping` Callbacks"
      ]
    },
    {
      "cell_type": "code",
      "metadata": {
        "id": "jENGdRK8TmHt",
        "colab_type": "code",
        "colab": {
          "base_uri": "https://localhost:8080/",
          "height": 34
        },
        "outputId": "91ff1ee7-5ce0-4d0a-eb3b-4de23e2e41d8"
      },
      "source": [
        "def score_function(engine):\n",
        "  val_loss = engine.state.metrics[\"loss\"]\n",
        "  return -val_loss\n",
        "\n",
        "handler = EarlyStopping(patience=10, score_function=score_function, trainer=trainer)\n",
        "val_evaluator.add_event_handler(Events.COMPLETED, handler)"
      ],
      "execution_count": 40,
      "outputs": [
        {
          "output_type": "execute_result",
          "data": {
            "text/plain": [
              "<ignite.engine.events.RemovableEventHandle at 0x7feb44047470>"
            ]
          },
          "metadata": {
            "tags": []
          },
          "execution_count": 40
        }
      ]
    },
    {
      "cell_type": "markdown",
      "metadata": {
        "id": "cqT9BgKvTmHv",
        "colab_type": "text"
      },
      "source": [
        "### Buat Custom Function\n",
        "Custom function dibuat untuk menghubungkan dengan dua event yaitu, event saat training dan event saat evaluation."
      ]
    },
    {
      "cell_type": "code",
      "metadata": {
        "id": "22SY-2WXTmHw",
        "colab_type": "code",
        "colab": {
          "base_uri": "https://localhost:8080/",
          "height": 34
        },
        "outputId": "1629272b-0906-4031-9681-062968be4ea3"
      },
      "source": [
        "@trainer.on(Events.EPOCH_COMPLETED)\n",
        "def log_training_results(trainer):\n",
        "  train_evaluator.run(train_loader)\n",
        "  metrics = train_evaluator.state.metrics\n",
        "  accuracy = metrics[\"accuracy\"] * 100\n",
        "  loss = metrics[\"loss\"]\n",
        "  last_epoch.append(0)\n",
        "  training_history[\"accuracy\"].append(accuracy)\n",
        "  training_history[\"loss\"].append(loss)\n",
        "  print(\"Training Results - Epochs: {} Avg. Accuracy: {:.2f} Avg. Loss: {:.2f}\"\n",
        "        .format(trainer.state.epoch, accuracy, loss))\n",
        "  \n",
        "def log_validation_results(trainer):\n",
        "  val_evaluator.run(test_loader)\n",
        "  metrics = val_evaluator.state.metrics\n",
        "  accuracy = metrics['accuracy']*100\n",
        "  loss = metrics['loss']\n",
        "  validation_history['accuracy'].append(accuracy)\n",
        "  validation_history['loss'].append(loss)\n",
        "  print(\"Validation Results - Epoch: {}  Avg accuracy: {:.2f} Avg loss: {:.2f}\"\n",
        "        .format(trainer.state.epoch, accuracy, loss))\n",
        "  \n",
        "trainer.add_event_handler(Events.EPOCH_COMPLETED, log_validation_results)"
      ],
      "execution_count": 41,
      "outputs": [
        {
          "output_type": "execute_result",
          "data": {
            "text/plain": [
              "<ignite.engine.events.RemovableEventHandle at 0x7feb457c59e8>"
            ]
          },
          "metadata": {
            "tags": []
          },
          "execution_count": 41
        }
      ]
    },
    {
      "cell_type": "markdown",
      "metadata": {
        "id": "T41KRW0xTmHz",
        "colab_type": "text"
      },
      "source": [
        "### Model Checkpoint"
      ]
    },
    {
      "cell_type": "code",
      "metadata": {
        "id": "YBcWUv3aTmHz",
        "colab_type": "code",
        "colab": {
          "base_uri": "https://localhost:8080/",
          "height": 34
        },
        "outputId": "fc8d5b4d-ef9d-42d3-ef19-d77aa422b171"
      },
      "source": [
        "checkpointer = ModelCheckpoint(\"./saved_models\", \"aksarabali_\"+str_model_name, n_saved=5, \n",
        "                               create_dir=True, save_as_state_dict=True, \n",
        "                               require_empty=False)\n",
        "trainer.add_event_handler(Events.EPOCH_COMPLETED, checkpointer, {str_model_name: model})"
      ],
      "execution_count": 42,
      "outputs": [
        {
          "output_type": "execute_result",
          "data": {
            "text/plain": [
              "<ignite.engine.events.RemovableEventHandle at 0x7feb457e4cc0>"
            ]
          },
          "metadata": {
            "tags": []
          },
          "execution_count": 42
        }
      ]
    },
    {
      "cell_type": "markdown",
      "metadata": {
        "id": "S_ttqv8zTmH4",
        "colab_type": "text"
      },
      "source": [
        "### Run the Engine"
      ]
    },
    {
      "cell_type": "code",
      "metadata": {
        "id": "HrRbQ5xnTmH5",
        "colab_type": "code",
        "colab": {
          "base_uri": "https://localhost:8080/",
          "height": 353
        },
        "outputId": "0cb0b61c-49a5-4b1f-ff48-621996d34317"
      },
      "source": [
        "trainer.run(train_loader, max_epochs=epochs)"
      ],
      "execution_count": 43,
      "outputs": [
        {
          "output_type": "stream",
          "text": [
            "Training Results - Epochs: 1 Avg. Accuracy: 85.71 Avg. Loss: 0.48\n",
            "Validation Results - Epoch: 1  Avg accuracy: 79.79 Avg loss: 0.72\n",
            "Training Results - Epochs: 2 Avg. Accuracy: 93.36 Avg. Loss: 0.23\n",
            "Validation Results - Epoch: 2  Avg accuracy: 83.75 Avg loss: 0.59\n",
            "Training Results - Epochs: 3 Avg. Accuracy: 96.26 Avg. Loss: 0.13\n",
            "Validation Results - Epoch: 3  Avg accuracy: 88.99 Avg loss: 0.43\n"
          ],
          "name": "stdout"
        },
        {
          "output_type": "execute_result",
          "data": {
            "text/plain": [
              "State:\n",
              "\titeration: 1248\n",
              "\tepoch: 3\n",
              "\tepoch_length: 416\n",
              "\tmax_epochs: 3\n",
              "\toutput: 0.44166627526283264\n",
              "\tbatch: <class 'list'>\n",
              "\tmetrics: <class 'dict'>\n",
              "\tdataloader: <class 'torch.utils.data.dataloader.DataLoader'>\n",
              "\tseed: <class 'NoneType'>\n",
              "\ttimes: <class 'dict'>"
            ]
          },
          "metadata": {
            "tags": []
          },
          "execution_count": 43
        }
      ]
    },
    {
      "cell_type": "markdown",
      "metadata": {
        "id": "7U18XeABTmH7",
        "colab_type": "text"
      },
      "source": [
        "### Plot loss dan accuracy"
      ]
    },
    {
      "cell_type": "code",
      "metadata": {
        "id": "hDKkTajDTmH8",
        "colab_type": "code",
        "colab": {
          "base_uri": "https://localhost:8080/",
          "height": 541
        },
        "outputId": "15132390-d68b-472a-cb89-4874a1e9c53a"
      },
      "source": [
        "# Accuracy\n",
        "import matplotlib.pyplot as plt\n",
        "\n",
        "plt.plot(training_history[\"accuracy\"], label=\"Training Accuracy\")\n",
        "plt.plot(validation_history[\"accuracy\"], label=\"Validation Accuracy\")\n",
        "plt.xlabel(\"Num. of Epochs\")\n",
        "plt.ylabel(\"Accuracy\")\n",
        "plt.legend(frameon=False)\n",
        "plt.show()\n",
        "\n",
        "# Loss\n",
        "plt.plot(training_history[\"loss\"], label=\"Training Accuracy\")\n",
        "plt.plot(validation_history[\"loss\"], label=\"Validation Accuracy\")\n",
        "plt.xlabel(\"Num. of Epochs\")\n",
        "plt.ylabel(\"Loss\")\n",
        "plt.legend(frameon=False)\n",
        "plt.show()"
      ],
      "execution_count": 35,
      "outputs": [
        {
          "output_type": "display_data",
          "data": {
            "image/png": "[encoded data removed]",
            "text/plain": [
              "<Figure size 432x288 with 1 Axes>"
            ]
          },
          "metadata": {
            "tags": [],
            "needs_background": "light"
          }
        },
        {
          "output_type": "display_data",
          "data": {
            "image/png": "[encoded data removed]",
            "text/plain": [
              "<Figure size 432x288 with 1 Axes>"
            ]
          },
          "metadata": {
            "tags": [],
            "needs_background": "light"
          }
        }
      ]
    },
    {
      "cell_type": "markdown",
      "metadata": {
        "id": "_68fHXrkTmH-",
        "colab_type": "text"
      },
      "source": [
        "### Loading the saved model from the disk"
      ]
    },
    {
      "cell_type": "code",
      "metadata": {
        "id": "1Tp4w4VnTmH_",
        "colab_type": "code",
        "colab": {}
      },
      "source": [
        "# loading the saved model\n",
        "# def fetch_last_checkpoint_model_filename(model_save_path):\n",
        "#     import os\n",
        "#     checkpoint_files = os.listdir(model_save_path)\n",
        "#     checkpoint_files = [f for f in checkpoint_files if '.pth' in f]\n",
        "#     checkpoint_iter = [\n",
        "#         int(x.split('_')[2].split('.')[0])\n",
        "#         for x in checkpoint_files]\n",
        "#     last_idx = np.array(checkpoint_iter).argmax()\n",
        "#     return os.path.join(model_save_path, checkpoint_files[last_idx])\n",
        "\n",
        "# model.load_state_dict(torch.load(fetch_last_checkpoint_model_filename('./saved_models')))\n",
        "# model.load_state_dict(torch.load('./saved_models/aksarabali_aksarabali_11256.pt'))\n",
        "print(\"Model Loaded\")"
      ],
      "execution_count": null,
      "outputs": []
    },
    {
      "cell_type": "markdown",
      "metadata": {
        "id": "Fo0M4UTBTmIH",
        "colab_type": "text"
      },
      "source": [
        "### Inferencing the model "
      ]
    },
    {
      "cell_type": "code",
      "metadata": {
        "id": "jYfgThRyTmII",
        "colab_type": "code",
        "colab": {}
      },
      "source": [
        ""
      ],
      "execution_count": null,
      "outputs": []
    }
  ]
}