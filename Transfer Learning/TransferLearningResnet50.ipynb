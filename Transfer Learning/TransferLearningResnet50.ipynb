{
  "nbformat": 4,
  "nbformat_minor": 0,
  "metadata": {
    "colab": {
      "name": "aksarabali.ipynb",
      "provenance": [],
      "collapsed_sections": [],
      "toc_visible": true,
      "include_colab_link": true
    },
    "kernelspec": {
      "name": "python3",
      "display_name": "Python 3"
    },
    "accelerator": "GPU",
    "widgets": {
      "application/vnd.jupyter.widget-state+json": {
        "e44d0723aa164f57807cdf92d33c6d57": {
          "model_module": "@jupyter-widgets/controls",
          "model_name": "HBoxModel",
          "state": {
            "_view_name": "HBoxView",
            "_dom_classes": [],
            "_model_name": "HBoxModel",
            "_view_module": "@jupyter-widgets/controls",
            "_model_module_version": "1.5.0",
            "_view_count": null,
            "_view_module_version": "1.5.0",
            "box_style": "",
            "layout": "IPY_MODEL_86a358543f3d48f0a980c1e5f21e98e4",
            "_model_module": "@jupyter-widgets/controls",
            "children": [
              "IPY_MODEL_149e8349a81a465ca34535ea5bc43b1a",
              "IPY_MODEL_cda00e285c5341a585c0a2da0878a242"
            ]
          }
        },
        "86a358543f3d48f0a980c1e5f21e98e4": {
          "model_module": "@jupyter-widgets/base",
          "model_name": "LayoutModel",
          "state": {
            "_view_name": "LayoutView",
            "grid_template_rows": null,
            "right": null,
            "justify_content": null,
            "_view_module": "@jupyter-widgets/base",
            "overflow": null,
            "_model_module_version": "1.2.0",
            "_view_count": null,
            "flex_flow": null,
            "width": null,
            "min_width": null,
            "border": null,
            "align_items": null,
            "bottom": null,
            "_model_module": "@jupyter-widgets/base",
            "top": null,
            "grid_column": null,
            "overflow_y": null,
            "overflow_x": null,
            "grid_auto_flow": null,
            "grid_area": null,
            "grid_template_columns": null,
            "flex": null,
            "_model_name": "LayoutModel",
            "justify_items": null,
            "grid_row": null,
            "max_height": null,
            "align_content": null,
            "visibility": null,
            "align_self": null,
            "height": null,
            "min_height": null,
            "padding": null,
            "grid_auto_rows": null,
            "grid_gap": null,
            "max_width": null,
            "order": null,
            "_view_module_version": "1.2.0",
            "grid_template_areas": null,
            "object_position": null,
            "object_fit": null,
            "grid_auto_columns": null,
            "margin": null,
            "display": null,
            "left": null
          }
        },
        "149e8349a81a465ca34535ea5bc43b1a": {
          "model_module": "@jupyter-widgets/controls",
          "model_name": "FloatProgressModel",
          "state": {
            "_view_name": "ProgressView",
            "style": "IPY_MODEL_795855d16f554b809b88b35f5dbed669",
            "_dom_classes": [],
            "description": "100%",
            "_model_name": "FloatProgressModel",
            "bar_style": "success",
            "max": 102502400,
            "_view_module": "@jupyter-widgets/controls",
            "_model_module_version": "1.5.0",
            "value": 102502400,
            "_view_count": null,
            "_view_module_version": "1.5.0",
            "orientation": "horizontal",
            "min": 0,
            "description_tooltip": null,
            "_model_module": "@jupyter-widgets/controls",
            "layout": "IPY_MODEL_1fe8ed21f23a4d568a61b7ce9012934a"
          }
        },
        "cda00e285c5341a585c0a2da0878a242": {
          "model_module": "@jupyter-widgets/controls",
          "model_name": "HTMLModel",
          "state": {
            "_view_name": "HTMLView",
            "style": "IPY_MODEL_a41d7a1b5352443db294a28550223460",
            "_dom_classes": [],
            "description": "",
            "_model_name": "HTMLModel",
            "placeholder": "​",
            "_view_module": "@jupyter-widgets/controls",
            "_model_module_version": "1.5.0",
            "value": " 97.8M/97.8M [01:01&lt;00:00, 1.67MB/s]",
            "_view_count": null,
            "_view_module_version": "1.5.0",
            "description_tooltip": null,
            "_model_module": "@jupyter-widgets/controls",
            "layout": "IPY_MODEL_b4819704cdff4fbba4ca0b366009d034"
          }
        },
        "795855d16f554b809b88b35f5dbed669": {
          "model_module": "@jupyter-widgets/controls",
          "model_name": "ProgressStyleModel",
          "state": {
            "_view_name": "StyleView",
            "_model_name": "ProgressStyleModel",
            "description_width": "initial",
            "_view_module": "@jupyter-widgets/base",
            "_model_module_version": "1.5.0",
            "_view_count": null,
            "_view_module_version": "1.2.0",
            "bar_color": null,
            "_model_module": "@jupyter-widgets/controls"
          }
        },
        "1fe8ed21f23a4d568a61b7ce9012934a": {
          "model_module": "@jupyter-widgets/base",
          "model_name": "LayoutModel",
          "state": {
            "_view_name": "LayoutView",
            "grid_template_rows": null,
            "right": null,
            "justify_content": null,
            "_view_module": "@jupyter-widgets/base",
            "overflow": null,
            "_model_module_version": "1.2.0",
            "_view_count": null,
            "flex_flow": null,
            "width": null,
            "min_width": null,
            "border": null,
            "align_items": null,
            "bottom": null,
            "_model_module": "@jupyter-widgets/base",
            "top": null,
            "grid_column": null,
            "overflow_y": null,
            "overflow_x": null,
            "grid_auto_flow": null,
            "grid_area": null,
            "grid_template_columns": null,
            "flex": null,
            "_model_name": "LayoutModel",
            "justify_items": null,
            "grid_row": null,
            "max_height": null,
            "align_content": null,
            "visibility": null,
            "align_self": null,
            "height": null,
            "min_height": null,
            "padding": null,
            "grid_auto_rows": null,
            "grid_gap": null,
            "max_width": null,
            "order": null,
            "_view_module_version": "1.2.0",
            "grid_template_areas": null,
            "object_position": null,
            "object_fit": null,
            "grid_auto_columns": null,
            "margin": null,
            "display": null,
            "left": null
          }
        },
        "a41d7a1b5352443db294a28550223460": {
          "model_module": "@jupyter-widgets/controls",
          "model_name": "DescriptionStyleModel",
          "state": {
            "_view_name": "StyleView",
            "_model_name": "DescriptionStyleModel",
            "description_width": "",
            "_view_module": "@jupyter-widgets/base",
            "_model_module_version": "1.5.0",
            "_view_count": null,
            "_view_module_version": "1.2.0",
            "_model_module": "@jupyter-widgets/controls"
          }
        },
        "b4819704cdff4fbba4ca0b366009d034": {
          "model_module": "@jupyter-widgets/base",
          "model_name": "LayoutModel",
          "state": {
            "_view_name": "LayoutView",
            "grid_template_rows": null,
            "right": null,
            "justify_content": null,
            "_view_module": "@jupyter-widgets/base",
            "overflow": null,
            "_model_module_version": "1.2.0",
            "_view_count": null,
            "flex_flow": null,
            "width": null,
            "min_width": null,
            "border": null,
            "align_items": null,
            "bottom": null,
            "_model_module": "@jupyter-widgets/base",
            "top": null,
            "grid_column": null,
            "overflow_y": null,
            "overflow_x": null,
            "grid_auto_flow": null,
            "grid_area": null,
            "grid_template_columns": null,
            "flex": null,
            "_model_name": "LayoutModel",
            "justify_items": null,
            "grid_row": null,
            "max_height": null,
            "align_content": null,
            "visibility": null,
            "align_self": null,
            "height": null,
            "min_height": null,
            "padding": null,
            "grid_auto_rows": null,
            "grid_gap": null,
            "max_width": null,
            "order": null,
            "_view_module_version": "1.2.0",
            "grid_template_areas": null,
            "object_position": null,
            "object_fit": null,
            "grid_auto_columns": null,
            "margin": null,
            "display": null,
            "left": null
          }
        }
      }
    }
  },
  "cells": [
    {
      "cell_type": "markdown",
      "metadata": {
        "id": "view-in-github",
        "colab_type": "text"
      },
      "source": [
        "<a href=\"https://colab.research.google.com/github/mdsatria/aksarabali/blob/master/Transfer%20Learning/TransferLearningResnet50.ipynb\" target=\"_parent\"><img src=\"https://colab.research.google.com/assets/colab-badge.svg\" alt=\"Open In Colab\"/></a>"
      ]
    },
    {
      "cell_type": "code",
      "metadata": {
        "id": "xj3sl6BwTqln",
        "colab_type": "code",
        "colab": {
          "base_uri": "https://localhost:8080/",
          "height": 170
        },
        "outputId": "3fd8192a-8d3a-4bbd-9d72-5d2bc75071ab"
      },
      "source": [
        "!pip install pytorch-ignite"
      ],
      "execution_count": 1,
      "outputs": [
        {
          "output_type": "stream",
          "text": [
            "Collecting pytorch-ignite\n",
            "\u001b[?25l  Downloading https://files.pythonhosted.org/packages/c0/8e/08569347023611e40e62a14162024ca6238d42cb528b2302f84d662a2033/pytorch_ignite-0.4.1-py2.py3-none-any.whl (166kB)\n",
            "\r\u001b[K     |██                              | 10kB 20.5MB/s eta 0:00:01\r\u001b[K     |████                            | 20kB 3.4MB/s eta 0:00:01\r\u001b[K     |██████                          | 30kB 4.4MB/s eta 0:00:01\r\u001b[K     |███████▉                        | 40kB 4.7MB/s eta 0:00:01\r\u001b[K     |█████████▉                      | 51kB 3.9MB/s eta 0:00:01\r\u001b[K     |███████████▉                    | 61kB 4.3MB/s eta 0:00:01\r\u001b[K     |█████████████▊                  | 71kB 4.7MB/s eta 0:00:01\r\u001b[K     |███████████████▊                | 81kB 5.1MB/s eta 0:00:01\r\u001b[K     |█████████████████▊              | 92kB 5.4MB/s eta 0:00:01\r\u001b[K     |███████████████████▋            | 102kB 5.3MB/s eta 0:00:01\r\u001b[K     |█████████████████████▋          | 112kB 5.3MB/s eta 0:00:01\r\u001b[K     |███████████████████████▋        | 122kB 5.3MB/s eta 0:00:01\r\u001b[K     |█████████████████████████▌      | 133kB 5.3MB/s eta 0:00:01\r\u001b[K     |███████████████████████████▌    | 143kB 5.3MB/s eta 0:00:01\r\u001b[K     |█████████████████████████████▌  | 153kB 5.3MB/s eta 0:00:01\r\u001b[K     |███████████████████████████████▌| 163kB 5.3MB/s eta 0:00:01\r\u001b[K     |████████████████████████████████| 174kB 5.3MB/s \n",
            "\u001b[?25hRequirement already satisfied: torch<2,>=1.3 in /usr/local/lib/python3.6/dist-packages (from pytorch-ignite) (1.6.0+cu101)\n",
            "Requirement already satisfied: numpy in /usr/local/lib/python3.6/dist-packages (from torch<2,>=1.3->pytorch-ignite) (1.18.5)\n",
            "Requirement already satisfied: future in /usr/local/lib/python3.6/dist-packages (from torch<2,>=1.3->pytorch-ignite) (0.16.0)\n",
            "Installing collected packages: pytorch-ignite\n",
            "Successfully installed pytorch-ignite-0.4.1\n"
          ],
          "name": "stdout"
        }
      ]
    },
    {
      "cell_type": "code",
      "metadata": {
        "id": "b0bjmo5tZJxi",
        "colab_type": "code",
        "colab": {
          "base_uri": "https://localhost:8080/",
          "height": 120
        },
        "outputId": "973d05f8-63a1-4456-df12-4b29539694bb"
      },
      "source": [
        "from google.colab import drive\n",
        "drive.mount('/content/gdrive')"
      ],
      "execution_count": 2,
      "outputs": [
        {
          "output_type": "stream",
          "text": [
            "Go to this URL in a browser: https://accounts.google.com/o/oauth2/auth?client_id=947318989803-6bn6qk8qdgf4n4g3pfee6491hc0brc4i.apps.googleusercontent.com&redirect_uri=urn%3aietf%3awg%3aoauth%3a2.0%3aoob&scope=email%20https%3a%2f%2fwww.googleapis.com%2fauth%2fdocs.test%20https%3a%2f%2fwww.googleapis.com%2fauth%2fdrive%20https%3a%2f%2fwww.googleapis.com%2fauth%2fdrive.photos.readonly%20https%3a%2f%2fwww.googleapis.com%2fauth%2fpeopleapi.readonly&response_type=code\n",
            "\n",
            "Enter your authorization code:\n",
            "··········\n",
            "Mounted at /content/gdrive\n"
          ],
          "name": "stdout"
        }
      ]
    },
    {
      "cell_type": "code",
      "metadata": {
        "id": "1mbN70L2ZMYi",
        "colab_type": "code",
        "colab": {}
      },
      "source": [
        "!unzip -qq \"gdrive/My Drive/Colab Notebooks/dataset/Aksara Bali/train.zip\"\n",
        "!unzip -qq \"gdrive/My Drive/Colab Notebooks/dataset/Aksara Bali/test.zip\""
      ],
      "execution_count": 3,
      "outputs": []
    },
    {
      "cell_type": "code",
      "metadata": {
        "id": "cFuS94x2TmHQ",
        "colab_type": "code",
        "colab": {}
      },
      "source": [
        "import os\n",
        "import pandas as pd\n",
        "from PIL import Image\n",
        "import torch\n",
        "import torchvision\n",
        "import torch.nn as nn\n",
        "import torch.nn.functional as F\n",
        "import torch.optim as optim\n",
        "import torchvision.transforms as transforms\n",
        "from torch.utils.data import DataLoader, Dataset\n",
        "from ignite.engine import Events, create_supervised_trainer, create_supervised_evaluator\n",
        "from ignite.metrics import Accuracy, Loss, RunningAverage\n",
        "from ignite.handlers import ModelCheckpoint, EarlyStopping"
      ],
      "execution_count": 4,
      "outputs": []
    },
    {
      "cell_type": "code",
      "metadata": {
        "id": "_zzzSOwdTmHT",
        "colab_type": "code",
        "colab": {
          "base_uri": "https://localhost:8080/",
          "height": 50
        },
        "outputId": "37370ab3-e90f-4651-c39d-e2714fd4a515"
      },
      "source": [
        "print(torch.cuda.device_count())\n",
        "print(torch.cuda.get_device_name(0))"
      ],
      "execution_count": 5,
      "outputs": [
        {
          "output_type": "stream",
          "text": [
            "1\n",
            "Tesla P100-PCIE-16GB\n"
          ],
          "name": "stdout"
        }
      ]
    },
    {
      "cell_type": "markdown",
      "metadata": {
        "id": "p1CfPfTBTmHY",
        "colab_type": "text"
      },
      "source": [
        "## Data Loader"
      ]
    },
    {
      "cell_type": "code",
      "metadata": {
        "id": "M9yGfH1QaDx7",
        "colab_type": "code",
        "colab": {}
      },
      "source": [
        "class AksaraBali(Dataset):\n",
        "    def __init__(self, csv_file, root_dir, height=224, width=224, transform=None):\n",
        "        self.annotations = pd.read_csv(csv_file, header=None)\n",
        "        self.root_dir = root_dir\n",
        "        self.transform = transform\n",
        "        self.height = height\n",
        "        self.width = width\n",
        "       \n",
        "    def __len__(self):\n",
        "        return len(self.annotations)\n",
        "    \n",
        "    def __getitem__(self, index):\n",
        "        img_path = os.path.join(self.root_dir, self.annotations.iloc[index,0])\n",
        "        image = Image.open(img_path).resize((self.height, self.width))\n",
        "        y_label = torch.tensor(self.annotations.iloc[index,2], dtype=torch.long)\n",
        "        \n",
        "        if self.transform:\n",
        "            image = self.transform(image)\n",
        "            \n",
        "        return(image, y_label)"
      ],
      "execution_count": 6,
      "outputs": []
    },
    {
      "cell_type": "markdown",
      "metadata": {
        "id": "tOQeQkrQTmHb",
        "colab_type": "text"
      },
      "source": [
        "## Accuracy Check"
      ]
    },
    {
      "cell_type": "code",
      "metadata": {
        "id": "XSH9I6tQTmHb",
        "colab_type": "code",
        "colab": {}
      },
      "source": [
        "# def check_accuracy(loader, model, acc_type):\n",
        "#     num_correct = 0\n",
        "#     num_samples = 0\n",
        "#     model.eval()\n",
        "    \n",
        "#     with torch.no_grad():\n",
        "#         for x, y in loader:\n",
        "#             x = x.to(device='cuda:0')\n",
        "#             y = y.to(device='cuda:0')\n",
        "            \n",
        "#             scores = model(x)\n",
        "#             _, predictions = scores.max(1)\n",
        "#             num_correct += (predictions == y).sum()\n",
        "#             num_samples += predictions.size(0)\n",
        "        \n",
        "#         print(f'{acc_type} got {num_correct} / {num_samples} with accuracy {float(num_correct)/float(num_samples)*100:.2f}') \n",
        "    \n",
        "#     model.train()"
      ],
      "execution_count": null,
      "outputs": []
    },
    {
      "cell_type": "markdown",
      "metadata": {
        "id": "WUd8DXpITmHe",
        "colab_type": "text"
      },
      "source": [
        "## Set Training Params"
      ]
    },
    {
      "cell_type": "code",
      "metadata": {
        "id": "P2ApqPIeTmHf",
        "colab_type": "code",
        "colab": {
          "base_uri": "https://localhost:8080/",
          "height": 102,
          "referenced_widgets": [
            "e44d0723aa164f57807cdf92d33c6d57",
            "86a358543f3d48f0a980c1e5f21e98e4",
            "149e8349a81a465ca34535ea5bc43b1a",
            "cda00e285c5341a585c0a2da0878a242",
            "795855d16f554b809b88b35f5dbed669",
            "1fe8ed21f23a4d568a61b7ce9012934a",
            "a41d7a1b5352443db294a28550223460",
            "b4819704cdff4fbba4ca0b366009d034"
          ]
        },
        "outputId": "1057f365-05ed-4282-86c8-01cd9e810fbe"
      },
      "source": [
        "#device = torch.device(\"cuda\" if torch.cuda.is_available() else \"cpu\")\n",
        "    \n",
        "in_channel = 3 \n",
        "num_classes = 133\n",
        "learning_rate = 0.001\n",
        "batch_size = 64\n",
        "num_epoch = 250\n",
        "\n",
        "# tranform\n",
        "my_transform = transforms.Compose([transforms.ToTensor(),\n",
        "                                   transforms.Normalize(mean=(0.5005, 0.4670, 0.4174), std=(0.0813, 0.0534, 0.0932))])\n",
        "\n",
        "train_set = AksaraBali(csv_file=\"gdrive/My Drive/Colab Notebooks/dataset/Aksara Bali/train_label.csv\",\n",
        "                       root_dir=\"train\",\n",
        "                       transform=my_transform)\n",
        "\n",
        "test_set = AksaraBali(csv_file=\"gdrive/My Drive/Colab Notebooks/dataset/Aksara Bali/test_label.csv\",\n",
        "                       root_dir=\"test\",\n",
        "                       transform=my_transform)\n",
        "\n",
        "#train_set = torch.utils.data(dataset)\n",
        "train_loader = DataLoader(dataset=train_set,\n",
        "                          batch_size=batch_size,\n",
        "                          shuffle=True)\n",
        "\n",
        "test_loader = DataLoader(dataset=test_set,\n",
        "                          shuffle=False,\n",
        "                         batch_size=batch_size)\n",
        "#test_loader = DataLoader(dataset=test_set, batch_size=batch_size, shuffle=True)\n",
        "\n",
        "model = torchvision.models.resnet50(pretrained=True)\n",
        "gpu = torch.device(\"cuda:0\" if torch.cuda.is_available() else \"cpu\")\n",
        "model.to(gpu)\n",
        "\n",
        "criterion = nn.CrossEntropyLoss()\n",
        "optimizer = optim.Adam(model.parameters(), lr=learning_rate)"
      ],
      "execution_count": 7,
      "outputs": [
        {
          "output_type": "stream",
          "text": [
            "Downloading: \"https://download.pytorch.org/models/resnet50-19c8e357.pth\" to /root/.cache/torch/hub/checkpoints/resnet50-19c8e357.pth\n"
          ],
          "name": "stderr"
        },
        {
          "output_type": "display_data",
          "data": {
            "application/vnd.jupyter.widget-view+json": {
              "model_id": "e44d0723aa164f57807cdf92d33c6d57",
              "version_minor": 0,
              "version_major": 2
            },
            "text/plain": [
              "HBox(children=(FloatProgress(value=0.0, max=102502400.0), HTML(value='')))"
            ]
          },
          "metadata": {
            "tags": []
          }
        },
        {
          "output_type": "stream",
          "text": [
            "\n"
          ],
          "name": "stdout"
        }
      ]
    },
    {
      "cell_type": "markdown",
      "metadata": {
        "id": "iwKQb4ADTmHi",
        "colab_type": "text"
      },
      "source": [
        "## Training Model"
      ]
    },
    {
      "cell_type": "code",
      "metadata": {
        "id": "P_c8VjkaaJuD",
        "colab_type": "code",
        "colab": {}
      },
      "source": [
        "# for epoch in range(num_epoch):\n",
        "#     losses = []\n",
        "    \n",
        "#     for batch_idx, (data, targets) in enumerate(train_loader):\n",
        "#         # get data to cuda\n",
        "#         data = data.to(device='cuda:0')\n",
        "#         targets = targets.to(device='cuda:0')\n",
        "        \n",
        "#         # forward\n",
        "#         scores = model(data)\n",
        "#         loss = criterion(scores, targets)\n",
        "        \n",
        "#         losses.append(loss.item())\n",
        "        \n",
        "#         # backward\n",
        "#         optimizer.zero_grad()\n",
        "#         loss.backward()\n",
        "        \n",
        "#         # gradient descent or adam step\n",
        "#         optimizer.step()\n",
        "    \n",
        "#     print(f'Cost at epoch {epoch+1} is {sum(losses)/len(losses)}')\n",
        "#     check_accuracy(train_loader, model, \"Train accuracy \")\n",
        "#     check_accuracy(test_loader, model, \"Test accuracy \")\n",
        "   \n",
        "# #torch.save(model, \"model1810.pt\")"
      ],
      "execution_count": 34,
      "outputs": []
    },
    {
      "cell_type": "markdown",
      "metadata": {
        "id": "9GRipDIsTmHm",
        "colab_type": "text"
      },
      "source": [
        "# Train Model pakai Pytorch Ignite\n",
        "\n",
        "Inisiasi Training dan Evaluation Engine"
      ]
    },
    {
      "cell_type": "code",
      "metadata": {
        "id": "m9ui6FcMTmHm",
        "colab_type": "code",
        "colab": {}
      },
      "source": [
        "epochs = 10\n",
        "trainer = create_supervised_trainer(model, optimizer, criterion, device=gpu)\n",
        "metrics = {\n",
        "    \"accuracy\": Accuracy(),\n",
        "    \"loss\": Loss(criterion)\n",
        "}\n",
        "train_evaluator = create_supervised_evaluator(model, metrics=metrics, device=gpu)\n",
        "val_evaluator = create_supervised_evaluator(model, metrics=metrics, device=gpu)\n",
        "training_history = {\"accuracy\":[], \"loss\":[]}\n",
        "validation_history = {\"accuracy\":[], \"loss\":[]}\n",
        "last_epoch = []"
      ],
      "execution_count": 8,
      "outputs": []
    },
    {
      "cell_type": "markdown",
      "metadata": {
        "id": "Gcm3ctomTmHp",
        "colab_type": "text"
      },
      "source": [
        "### Metrics - `RunningAverage`"
      ]
    },
    {
      "cell_type": "code",
      "metadata": {
        "id": "D37VuYdqTmHp",
        "colab_type": "code",
        "colab": {}
      },
      "source": [
        "RunningAverage(output_transform=lambda x: x).attach(trainer, \"loss\")"
      ],
      "execution_count": 9,
      "outputs": []
    },
    {
      "cell_type": "markdown",
      "metadata": {
        "id": "IUc7JJp0TmHs",
        "colab_type": "text"
      },
      "source": [
        "### `EarlyStopping` Callbacks"
      ]
    },
    {
      "cell_type": "code",
      "metadata": {
        "id": "jENGdRK8TmHt",
        "colab_type": "code",
        "colab": {
          "base_uri": "https://localhost:8080/",
          "height": 33
        },
        "outputId": "d309ec98-35e2-4cf9-e430-a286f39cc482"
      },
      "source": [
        "def score_function(engine):\n",
        "  val_loss = engine.state.metrics[\"loss\"]\n",
        "  return -val_loss\n",
        "\n",
        "handler = EarlyStopping(patience=10, score_function=score_function, trainer=trainer)\n",
        "val_evaluator.add_event_handler(Events.COMPLETED, handler)"
      ],
      "execution_count": 10,
      "outputs": [
        {
          "output_type": "execute_result",
          "data": {
            "text/plain": [
              "<ignite.engine.events.RemovableEventHandle at 0x7f75f5b97630>"
            ]
          },
          "metadata": {
            "tags": []
          },
          "execution_count": 10
        }
      ]
    },
    {
      "cell_type": "markdown",
      "metadata": {
        "id": "cqT9BgKvTmHv",
        "colab_type": "text"
      },
      "source": [
        "### Buat Custom Function\n",
        "Custom function dibuat untuk menghubungkan dengan dua event yaitu, event saat training dan event saat evaluation."
      ]
    },
    {
      "cell_type": "code",
      "metadata": {
        "id": "22SY-2WXTmHw",
        "colab_type": "code",
        "colab": {
          "base_uri": "https://localhost:8080/",
          "height": 33
        },
        "outputId": "560a82dc-1bb2-44c2-dcc5-fd786f2d77b0"
      },
      "source": [
        "@trainer.on(Events.EPOCH_COMPLETED)\n",
        "def log_training_results(trainer):\n",
        "  train_evaluator.run(train_loader)\n",
        "  metrics = train_evaluator.state.metrics\n",
        "  accuracy = metrics[\"accuracy\"] * 100\n",
        "  loss = metrics[\"loss\"]\n",
        "  last_epoch.append(0)\n",
        "  training_history[\"accuracy\"].append(accuracy)\n",
        "  training_history[\"loss\"].append(loss)\n",
        "  print(\"Training Results - Epochs: {} Avg. Accuracy: {:.2f} Avg. Loss: {:.2f}\"\n",
        "        .format(trainer.state.epoch, accuracy, loss))\n",
        "  \n",
        "def log_validation_results(trainer):\n",
        "  val_evaluator.run(test_loader)\n",
        "  metrics = val_evaluator.state.metrics\n",
        "  accuracy = metrics['accuracy']*100\n",
        "  loss = metrics['loss']\n",
        "  validation_history['accuracy'].append(accuracy)\n",
        "  validation_history['loss'].append(loss)\n",
        "  print(\"Validation Results - Epoch: {}  Avg accuracy: {:.2f} Avg loss: {:.2f}\"\n",
        "        .format(trainer.state.epoch, accuracy, loss))\n",
        "  \n",
        "trainer.add_event_handler(Events.EPOCH_COMPLETED, log_validation_results)"
      ],
      "execution_count": 11,
      "outputs": [
        {
          "output_type": "execute_result",
          "data": {
            "text/plain": [
              "<ignite.engine.events.RemovableEventHandle at 0x7f75ed077668>"
            ]
          },
          "metadata": {
            "tags": []
          },
          "execution_count": 11
        }
      ]
    },
    {
      "cell_type": "markdown",
      "metadata": {
        "id": "T41KRW0xTmHz",
        "colab_type": "text"
      },
      "source": [
        "### Model Checkpoint"
      ]
    },
    {
      "cell_type": "code",
      "metadata": {
        "id": "YBcWUv3aTmHz",
        "colab_type": "code",
        "colab": {
          "base_uri": "https://localhost:8080/",
          "height": 33
        },
        "outputId": "994c268c-e7b2-4488-8fcc-c48caa57846a"
      },
      "source": [
        "checkpointer = ModelCheckpoint(\"./saved_models\", \"aksarabali\", n_saved=5, \n",
        "                               create_dir=True, save_as_state_dict=True, \n",
        "                               require_empty=False)\n",
        "trainer.add_event_handler(Events.EPOCH_COMPLETED, checkpointer, {\"aksarabali\": model})"
      ],
      "execution_count": 12,
      "outputs": [
        {
          "output_type": "execute_result",
          "data": {
            "text/plain": [
              "<ignite.engine.events.RemovableEventHandle at 0x7f75edf67048>"
            ]
          },
          "metadata": {
            "tags": []
          },
          "execution_count": 12
        }
      ]
    },
    {
      "cell_type": "markdown",
      "metadata": {
        "id": "S_ttqv8zTmH4",
        "colab_type": "text"
      },
      "source": [
        "### Run the Engine"
      ]
    },
    {
      "cell_type": "code",
      "metadata": {
        "id": "HrRbQ5xnTmH5",
        "colab_type": "code",
        "colab": {
          "base_uri": "https://localhost:8080/",
          "height": 535
        },
        "outputId": "64857b83-d491-4a87-c1cf-0ea40be756a9"
      },
      "source": [
        "trainer.run(train_loader, max_epochs=epochs)"
      ],
      "execution_count": 13,
      "outputs": [
        {
          "output_type": "stream",
          "text": [
            "Training Results - Epochs: 1 Avg. Accuracy: 83.73 Avg. Loss: 0.56\n",
            "Validation Results - Epoch: 1  Avg accuracy: 73.60 Avg loss: 0.92\n",
            "Training Results - Epochs: 2 Avg. Accuracy: 92.41 Avg. Loss: 0.26\n",
            "Validation Results - Epoch: 2  Avg accuracy: 85.47 Avg loss: 0.54\n",
            "Training Results - Epochs: 3 Avg. Accuracy: 94.33 Avg. Loss: 0.19\n",
            "Validation Results - Epoch: 3  Avg accuracy: 83.40 Avg loss: 0.60\n",
            "Training Results - Epochs: 4 Avg. Accuracy: 94.51 Avg. Loss: 0.18\n",
            "Validation Results - Epoch: 4  Avg accuracy: 86.16 Avg loss: 0.53\n",
            "Training Results - Epochs: 5 Avg. Accuracy: 95.24 Avg. Loss: 0.16\n",
            "Validation Results - Epoch: 5  Avg accuracy: 87.48 Avg loss: 0.51\n",
            "Training Results - Epochs: 6 Avg. Accuracy: 96.16 Avg. Loss: 0.12\n",
            "Validation Results - Epoch: 6  Avg accuracy: 87.06 Avg loss: 0.50\n",
            "Training Results - Epochs: 7 Avg. Accuracy: 96.65 Avg. Loss: 0.11\n",
            "Validation Results - Epoch: 7  Avg accuracy: 85.48 Avg loss: 0.61\n",
            "Training Results - Epochs: 8 Avg. Accuracy: 97.28 Avg. Loss: 0.09\n",
            "Validation Results - Epoch: 8  Avg accuracy: 88.97 Avg loss: 0.46\n",
            "Training Results - Epochs: 9 Avg. Accuracy: 98.34 Avg. Loss: 0.06\n",
            "Validation Results - Epoch: 9  Avg accuracy: 89.72 Avg loss: 0.44\n",
            "Training Results - Epochs: 10 Avg. Accuracy: 97.79 Avg. Loss: 0.07\n",
            "Validation Results - Epoch: 10  Avg accuracy: 88.34 Avg loss: 0.51\n"
          ],
          "name": "stdout"
        },
        {
          "output_type": "execute_result",
          "data": {
            "text/plain": [
              "State:\n",
              "\titeration: 4160\n",
              "\tepoch: 10\n",
              "\tepoch_length: 416\n",
              "\tmax_epochs: 10\n",
              "\toutput: 0.06859813630580902\n",
              "\tbatch: <class 'list'>\n",
              "\tmetrics: <class 'dict'>\n",
              "\tdataloader: <class 'torch.utils.data.dataloader.DataLoader'>\n",
              "\tseed: <class 'NoneType'>\n",
              "\ttimes: <class 'dict'>"
            ]
          },
          "metadata": {
            "tags": []
          },
          "execution_count": 13
        }
      ]
    },
    {
      "cell_type": "markdown",
      "metadata": {
        "id": "7U18XeABTmH7",
        "colab_type": "text"
      },
      "source": [
        "### Plot loss dan accuracy"
      ]
    },
    {
      "cell_type": "code",
      "metadata": {
        "id": "hDKkTajDTmH8",
        "colab_type": "code",
        "colab": {
          "base_uri": "https://localhost:8080/",
          "height": 541
        },
        "outputId": "bb5f0072-c932-4435-8e39-a5439273bb25"
      },
      "source": [
        "# Accuracy\n",
        "import matplotlib.pyplot as plt\n",
        "\n",
        "plt.plot(training_history[\"accuracy\"], label=\"Training Accuracy\")\n",
        "plt.plot(validation_history[\"accuracy\"], label=\"Validation Accuracy\")\n",
        "plt.xlabel(\"Num. of Epochs\")\n",
        "plt.ylabel(\"Accuracy\")\n",
        "plt.legend(frameon=False)\n",
        "plt.show()\n",
        "\n",
        "# Loss\n",
        "plt.plot(training_history[\"loss\"], label=\"Training Accuracy\")\n",
        "plt.plot(validation_history[\"loss\"], label=\"Validation Accuracy\")\n",
        "plt.xlabel(\"Num. of Epochs\")\n",
        "plt.ylabel(\"Loss\")\n",
        "plt.legend(frameon=False)\n",
        "plt.show()"
      ],
      "execution_count": 15,
      "outputs": [
        {
          "output_type": "display_data",
          "data": {
            "image/png": "[encoded data removed]",
            "text/plain": [
              "<Figure size 432x288 with 1 Axes>"
            ]
          },
          "metadata": {
            "tags": [],
            "needs_background": "light"
          }
        },
        {
          "output_type": "display_data",
          "data": {
            "image/png": "[encoded data removed]",
            "text/plain": [
              "<Figure size 432x288 with 1 Axes>"
            ]
          },
          "metadata": {
            "tags": [],
            "needs_background": "light"
          }
        }
      ]
    },
    {
      "cell_type": "markdown",
      "metadata": {
        "id": "_68fHXrkTmH-",
        "colab_type": "text"
      },
      "source": [
        "### Loading the saved model from the disk"
      ]
    },
    {
      "cell_type": "code",
      "metadata": {
        "id": "1Tp4w4VnTmH_",
        "colab_type": "code",
        "colab": {}
      },
      "source": [
        "# loading the saved model\n",
        "# def fetch_last_checkpoint_model_filename(model_save_path):\n",
        "#     import os\n",
        "#     checkpoint_files = os.listdir(model_save_path)\n",
        "#     checkpoint_files = [f for f in checkpoint_files if '.pth' in f]\n",
        "#     checkpoint_iter = [\n",
        "#         int(x.split('_')[2].split('.')[0])\n",
        "#         for x in checkpoint_files]\n",
        "#     last_idx = np.array(checkpoint_iter).argmax()\n",
        "#     return os.path.join(model_save_path, checkpoint_files[last_idx])\n",
        "\n",
        "# model.load_state_dict(torch.load(fetch_last_checkpoint_model_filename('./saved_models')))\n",
        "# model.load_state_dict(torch.load('./saved_models/aksarabali_aksarabali_11256.pt'))\n",
        "print(\"Model Loaded\")"
      ],
      "execution_count": null,
      "outputs": []
    },
    {
      "cell_type": "markdown",
      "metadata": {
        "id": "Fo0M4UTBTmIH",
        "colab_type": "text"
      },
      "source": [
        "### Inferencing the model "
      ]
    },
    {
      "cell_type": "code",
      "metadata": {
        "id": "jYfgThRyTmII",
        "colab_type": "code",
        "colab": {}
      },
      "source": [
        ""
      ],
      "execution_count": null,
      "outputs": []
    }
  ]
}