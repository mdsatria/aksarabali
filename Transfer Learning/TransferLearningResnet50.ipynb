{
  "nbformat": 4,
  "nbformat_minor": 0,
  "metadata": {
    "colab": {
      "name": "aksarabali.ipynb",
      "provenance": [],
      "collapsed_sections": [],
      "include_colab_link": true
    },
    "kernelspec": {
      "name": "python3",
      "display_name": "Python 3"
    },
    "accelerator": "GPU",
    "widgets": {
      "application/vnd.jupyter.widget-state+json": {
        "b8613e98fcd04c62b91e9c75d0732893": {
          "model_module": "@jupyter-widgets/controls",
          "model_name": "HBoxModel",
          "state": {
            "_view_name": "HBoxView",
            "_dom_classes": [],
            "_model_name": "HBoxModel",
            "_view_module": "@jupyter-widgets/controls",
            "_model_module_version": "1.5.0",
            "_view_count": null,
            "_view_module_version": "1.5.0",
            "box_style": "",
            "layout": "IPY_MODEL_c76f0192afc248eebc7eeb257eac310b",
            "_model_module": "@jupyter-widgets/controls",
            "children": [
              "IPY_MODEL_78f9954f49484637af07da6a37bf194d",
              "IPY_MODEL_86586b95858d41faae4b7471ae29ec5d"
            ]
          }
        },
        "c76f0192afc248eebc7eeb257eac310b": {
          "model_module": "@jupyter-widgets/base",
          "model_name": "LayoutModel",
          "state": {
            "_view_name": "LayoutView",
            "grid_template_rows": null,
            "right": null,
            "justify_content": null,
            "_view_module": "@jupyter-widgets/base",
            "overflow": null,
            "_model_module_version": "1.2.0",
            "_view_count": null,
            "flex_flow": null,
            "width": null,
            "min_width": null,
            "border": null,
            "align_items": null,
            "bottom": null,
            "_model_module": "@jupyter-widgets/base",
            "top": null,
            "grid_column": null,
            "overflow_y": null,
            "overflow_x": null,
            "grid_auto_flow": null,
            "grid_area": null,
            "grid_template_columns": null,
            "flex": null,
            "_model_name": "LayoutModel",
            "justify_items": null,
            "grid_row": null,
            "max_height": null,
            "align_content": null,
            "visibility": null,
            "align_self": null,
            "height": null,
            "min_height": null,
            "padding": null,
            "grid_auto_rows": null,
            "grid_gap": null,
            "max_width": null,
            "order": null,
            "_view_module_version": "1.2.0",
            "grid_template_areas": null,
            "object_position": null,
            "object_fit": null,
            "grid_auto_columns": null,
            "margin": null,
            "display": null,
            "left": null
          }
        },
        "78f9954f49484637af07da6a37bf194d": {
          "model_module": "@jupyter-widgets/controls",
          "model_name": "FloatProgressModel",
          "state": {
            "_view_name": "ProgressView",
            "style": "IPY_MODEL_ec5ca42ba727427a8a2088fbbe454fac",
            "_dom_classes": [],
            "description": "100%",
            "_model_name": "FloatProgressModel",
            "bar_style": "success",
            "max": 14212972,
            "_view_module": "@jupyter-widgets/controls",
            "_model_module_version": "1.5.0",
            "value": 14212972,
            "_view_count": null,
            "_view_module_version": "1.5.0",
            "orientation": "horizontal",
            "min": 0,
            "description_tooltip": null,
            "_model_module": "@jupyter-widgets/controls",
            "layout": "IPY_MODEL_10df54dc8a4b4de599e48e2476feeb18"
          }
        },
        "86586b95858d41faae4b7471ae29ec5d": {
          "model_module": "@jupyter-widgets/controls",
          "model_name": "HTMLModel",
          "state": {
            "_view_name": "HTMLView",
            "style": "IPY_MODEL_93d458e2ccd44bb6ba1e655da7dc95c7",
            "_dom_classes": [],
            "description": "",
            "_model_name": "HTMLModel",
            "placeholder": "​",
            "_view_module": "@jupyter-widgets/controls",
            "_model_module_version": "1.5.0",
            "value": " 13.6M/13.6M [00:08&lt;00:00, 1.58MB/s]",
            "_view_count": null,
            "_view_module_version": "1.5.0",
            "description_tooltip": null,
            "_model_module": "@jupyter-widgets/controls",
            "layout": "IPY_MODEL_bf42072598cd462dbba326427fedaa73"
          }
        },
        "ec5ca42ba727427a8a2088fbbe454fac": {
          "model_module": "@jupyter-widgets/controls",
          "model_name": "ProgressStyleModel",
          "state": {
            "_view_name": "StyleView",
            "_model_name": "ProgressStyleModel",
            "description_width": "initial",
            "_view_module": "@jupyter-widgets/base",
            "_model_module_version": "1.5.0",
            "_view_count": null,
            "_view_module_version": "1.2.0",
            "bar_color": null,
            "_model_module": "@jupyter-widgets/controls"
          }
        },
        "10df54dc8a4b4de599e48e2476feeb18": {
          "model_module": "@jupyter-widgets/base",
          "model_name": "LayoutModel",
          "state": {
            "_view_name": "LayoutView",
            "grid_template_rows": null,
            "right": null,
            "justify_content": null,
            "_view_module": "@jupyter-widgets/base",
            "overflow": null,
            "_model_module_version": "1.2.0",
            "_view_count": null,
            "flex_flow": null,
            "width": null,
            "min_width": null,
            "border": null,
            "align_items": null,
            "bottom": null,
            "_model_module": "@jupyter-widgets/base",
            "top": null,
            "grid_column": null,
            "overflow_y": null,
            "overflow_x": null,
            "grid_auto_flow": null,
            "grid_area": null,
            "grid_template_columns": null,
            "flex": null,
            "_model_name": "LayoutModel",
            "justify_items": null,
            "grid_row": null,
            "max_height": null,
            "align_content": null,
            "visibility": null,
            "align_self": null,
            "height": null,
            "min_height": null,
            "padding": null,
            "grid_auto_rows": null,
            "grid_gap": null,
            "max_width": null,
            "order": null,
            "_view_module_version": "1.2.0",
            "grid_template_areas": null,
            "object_position": null,
            "object_fit": null,
            "grid_auto_columns": null,
            "margin": null,
            "display": null,
            "left": null
          }
        },
        "93d458e2ccd44bb6ba1e655da7dc95c7": {
          "model_module": "@jupyter-widgets/controls",
          "model_name": "DescriptionStyleModel",
          "state": {
            "_view_name": "StyleView",
            "_model_name": "DescriptionStyleModel",
            "description_width": "",
            "_view_module": "@jupyter-widgets/base",
            "_model_module_version": "1.5.0",
            "_view_count": null,
            "_view_module_version": "1.2.0",
            "_model_module": "@jupyter-widgets/controls"
          }
        },
        "bf42072598cd462dbba326427fedaa73": {
          "model_module": "@jupyter-widgets/base",
          "model_name": "LayoutModel",
          "state": {
            "_view_name": "LayoutView",
            "grid_template_rows": null,
            "right": null,
            "justify_content": null,
            "_view_module": "@jupyter-widgets/base",
            "overflow": null,
            "_model_module_version": "1.2.0",
            "_view_count": null,
            "flex_flow": null,
            "width": null,
            "min_width": null,
            "border": null,
            "align_items": null,
            "bottom": null,
            "_model_module": "@jupyter-widgets/base",
            "top": null,
            "grid_column": null,
            "overflow_y": null,
            "overflow_x": null,
            "grid_auto_flow": null,
            "grid_area": null,
            "grid_template_columns": null,
            "flex": null,
            "_model_name": "LayoutModel",
            "justify_items": null,
            "grid_row": null,
            "max_height": null,
            "align_content": null,
            "visibility": null,
            "align_self": null,
            "height": null,
            "min_height": null,
            "padding": null,
            "grid_auto_rows": null,
            "grid_gap": null,
            "max_width": null,
            "order": null,
            "_view_module_version": "1.2.0",
            "grid_template_areas": null,
            "object_position": null,
            "object_fit": null,
            "grid_auto_columns": null,
            "margin": null,
            "display": null,
            "left": null
          }
        }
      }
    }
  },
  "cells": [
    {
      "cell_type": "markdown",
      "metadata": {
        "id": "view-in-github",
        "colab_type": "text"
      },
      "source": [
        "<a href=\"https://colab.research.google.com/github/mdsatria/aksarabali/blob/update/Transfer%20Learning/TransferLearningResnet50.ipynb\" target=\"_parent\"><img src=\"https://colab.research.google.com/assets/colab-badge.svg\" alt=\"Open In Colab\"/></a>"
      ]
    },
    {
      "cell_type": "code",
      "metadata": {
        "id": "xj3sl6BwTqln",
        "colab_type": "code",
        "colab": {
          "base_uri": "https://localhost:8080/",
          "height": 170
        },
        "outputId": "77d262a3-53dc-46a5-a591-d4225c43ecce"
      },
      "source": [
        "!pip install pytorch-ignite"
      ],
      "execution_count": 1,
      "outputs": [
        {
          "output_type": "stream",
          "text": [
            "Collecting pytorch-ignite\n",
            "\u001b[?25l  Downloading https://files.pythonhosted.org/packages/c0/8e/08569347023611e40e62a14162024ca6238d42cb528b2302f84d662a2033/pytorch_ignite-0.4.1-py2.py3-none-any.whl (166kB)\n",
            "\r\u001b[K     |██                              | 10kB 18.6MB/s eta 0:00:01\r\u001b[K     |████                            | 20kB 1.7MB/s eta 0:00:01\r\u001b[K     |██████                          | 30kB 2.2MB/s eta 0:00:01\r\u001b[K     |███████▉                        | 40kB 2.5MB/s eta 0:00:01\r\u001b[K     |█████████▉                      | 51kB 2.0MB/s eta 0:00:01\r\u001b[K     |███████████▉                    | 61kB 2.2MB/s eta 0:00:01\r\u001b[K     |█████████████▊                  | 71kB 2.5MB/s eta 0:00:01\r\u001b[K     |███████████████▊                | 81kB 2.7MB/s eta 0:00:01\r\u001b[K     |█████████████████▊              | 92kB 2.8MB/s eta 0:00:01\r\u001b[K     |███████████████████▋            | 102kB 2.7MB/s eta 0:00:01\r\u001b[K     |█████████████████████▋          | 112kB 2.7MB/s eta 0:00:01\r\u001b[K     |███████████████████████▋        | 122kB 2.7MB/s eta 0:00:01\r\u001b[K     |█████████████████████████▌      | 133kB 2.7MB/s eta 0:00:01\r\u001b[K     |███████████████████████████▌    | 143kB 2.7MB/s eta 0:00:01\r\u001b[K     |█████████████████████████████▌  | 153kB 2.7MB/s eta 0:00:01\r\u001b[K     |███████████████████████████████▌| 163kB 2.7MB/s eta 0:00:01\r\u001b[K     |████████████████████████████████| 174kB 2.7MB/s \n",
            "\u001b[?25hRequirement already satisfied: torch<2,>=1.3 in /usr/local/lib/python3.6/dist-packages (from pytorch-ignite) (1.6.0+cu101)\n",
            "Requirement already satisfied: future in /usr/local/lib/python3.6/dist-packages (from torch<2,>=1.3->pytorch-ignite) (0.16.0)\n",
            "Requirement already satisfied: numpy in /usr/local/lib/python3.6/dist-packages (from torch<2,>=1.3->pytorch-ignite) (1.18.5)\n",
            "Installing collected packages: pytorch-ignite\n",
            "Successfully installed pytorch-ignite-0.4.1\n"
          ],
          "name": "stdout"
        }
      ]
    },
    {
      "cell_type": "code",
      "metadata": {
        "id": "b0bjmo5tZJxi",
        "colab_type": "code",
        "colab": {
          "base_uri": "https://localhost:8080/",
          "height": 33
        },
        "outputId": "e8064b1d-d1b3-4d7f-92f2-10d6db73de79"
      },
      "source": [
        "from google.colab import drive\n",
        "drive.mount('/content/gdrive')"
      ],
      "execution_count": 2,
      "outputs": [
        {
          "output_type": "stream",
          "text": [
            "Mounted at /content/gdrive\n"
          ],
          "name": "stdout"
        }
      ]
    },
    {
      "cell_type": "code",
      "metadata": {
        "id": "1mbN70L2ZMYi",
        "colab_type": "code",
        "colab": {}
      },
      "source": [
        "!unzip -qq \"gdrive/My Drive/Colab Notebooks/dataset/Aksara Bali/train.zip\"\n",
        "!unzip -qq \"gdrive/My Drive/Colab Notebooks/dataset/Aksara Bali/test.zip\""
      ],
      "execution_count": 3,
      "outputs": []
    },
    {
      "cell_type": "code",
      "metadata": {
        "id": "cFuS94x2TmHQ",
        "colab_type": "code",
        "colab": {}
      },
      "source": [
        "import os\n",
        "import pandas as pd\n",
        "from PIL import Image\n",
        "import torch\n",
        "import torchvision\n",
        "import torch.nn as nn\n",
        "import torch.nn.functional as F\n",
        "import torch.optim as optim\n",
        "import torchvision.transforms as transforms\n",
        "from torch.utils.data import DataLoader, Dataset\n",
        "from ignite.engine import Events, create_supervised_trainer, create_supervised_evaluator\n",
        "from ignite.metrics import Accuracy, Loss, RunningAverage\n",
        "from ignite.handlers import ModelCheckpoint, EarlyStopping"
      ],
      "execution_count": 4,
      "outputs": []
    },
    {
      "cell_type": "code",
      "metadata": {
        "id": "_zzzSOwdTmHT",
        "colab_type": "code",
        "colab": {
          "base_uri": "https://localhost:8080/",
          "height": 50
        },
        "outputId": "affd4f98-60e7-4ae6-b4c4-a981160b3b71"
      },
      "source": [
        "print(torch.cuda.device_count())\n",
        "print(torch.cuda.get_device_name(0))"
      ],
      "execution_count": 5,
      "outputs": [
        {
          "output_type": "stream",
          "text": [
            "1\n",
            "Tesla K80\n"
          ],
          "name": "stdout"
        }
      ]
    },
    {
      "cell_type": "markdown",
      "metadata": {
        "id": "p1CfPfTBTmHY",
        "colab_type": "text"
      },
      "source": [
        "## Data Loader"
      ]
    },
    {
      "cell_type": "code",
      "metadata": {
        "id": "M9yGfH1QaDx7",
        "colab_type": "code",
        "colab": {}
      },
      "source": [
        "class AksaraBali(Dataset):\n",
        "    def __init__(self, csv_file, root_dir, height=224, width=224, transform=None):\n",
        "        self.annotations = pd.read_csv(csv_file, header=None)\n",
        "        self.root_dir = root_dir\n",
        "        self.transform = transform\n",
        "        self.height = height\n",
        "        self.width = width\n",
        "       \n",
        "    def __len__(self):\n",
        "        return len(self.annotations)\n",
        "    \n",
        "    def __getitem__(self, index):\n",
        "        img_path = os.path.join(self.root_dir, self.annotations.iloc[index,0])\n",
        "        image = Image.open(img_path).resize((self.height, self.width))\n",
        "        y_label = torch.tensor(self.annotations.iloc[index,2], dtype=torch.long)\n",
        "        \n",
        "        if self.transform:\n",
        "            image = self.transform(image)\n",
        "            \n",
        "        return(image, y_label)"
      ],
      "execution_count": 6,
      "outputs": []
    },
    {
      "cell_type": "markdown",
      "metadata": {
        "id": "WUd8DXpITmHe",
        "colab_type": "text"
      },
      "source": [
        "## Set Training Params"
      ]
    },
    {
      "cell_type": "code",
      "metadata": {
        "id": "P2ApqPIeTmHf",
        "colab_type": "code",
        "colab": {}
      },
      "source": [
        "in_channel = 3\n",
        "num_classes = 133\n",
        "learning_rate = 0.001\n",
        "batch_size = 64\n",
        "\n",
        "# tranform\n",
        "my_transform = transforms.Compose([transforms.ToTensor(),\n",
        "                                   transforms.Normalize(mean=(0.5005, 0.4670, 0.4174), std=(0.0813, 0.0534, 0.0932))])\n",
        "\n",
        "train_set = AksaraBali(csv_file=\"gdrive/My Drive/Colab Notebooks/dataset/Aksara Bali/train_label.csv\",\n",
        "                       root_dir=\"train\",\n",
        "                       transform=my_transform)\n",
        "\n",
        "test_set = AksaraBali(csv_file=\"gdrive/My Drive/Colab Notebooks/dataset/Aksara Bali/test_label.csv\",\n",
        "                       root_dir=\"test\",\n",
        "                       transform=my_transform)\n",
        "\n",
        "#train_set = torch.utils.data(dataset)\n",
        "train_loader = DataLoader(dataset=train_set,\n",
        "                          batch_size=batch_size,\n",
        "                          shuffle=True)\n",
        "\n",
        "test_loader = DataLoader(dataset=test_set,\n",
        "                          shuffle=False,\n",
        "                         batch_size=batch_size)\n",
        "#test_loader = DataLoader(dataset=test_set, batch_size=batch_size, shuffle=True)"
      ],
      "execution_count": 7,
      "outputs": []
    },
    {
      "cell_type": "code",
      "metadata": {
        "id": "TL2urpO9swZE",
        "colab_type": "code",
        "colab": {
          "base_uri": "https://localhost:8080/",
          "height": 82,
          "referenced_widgets": [
            "b8613e98fcd04c62b91e9c75d0732893",
            "c76f0192afc248eebc7eeb257eac310b",
            "78f9954f49484637af07da6a37bf194d",
            "86586b95858d41faae4b7471ae29ec5d",
            "ec5ca42ba727427a8a2088fbbe454fac",
            "10df54dc8a4b4de599e48e2476feeb18",
            "93d458e2ccd44bb6ba1e655da7dc95c7",
            "bf42072598cd462dbba326427fedaa73"
          ]
        },
        "outputId": "96933710-8194-48b9-b8c3-998f80bd5b1b"
      },
      "source": [
        "def import_models(str_model_name):\n",
        "  if str_model_name == \"resnet\":\n",
        "    model = torchvision.models.resnet152(pretrained=True)\n",
        "  elif str_model_name == \"vgg\": # Kurang cocok, tapi belum coba varian vgg yg lain, tapi kyknya sama aja.\n",
        "    model = torchvision.models.vgg16(pretrained=True) \n",
        "  elif str_model_name == \"mobilenet\":\n",
        "    model = torchvision.models.mobilenet_v2(pretrained=True)\n",
        "  elif str_model_name == \"inception\": # tidak kompatible dgn input channel, perlu input 5x5\n",
        "    model = torchvision.models.inception_v3(pretrained=True)\n",
        "  elif str_model_name == \"squeezenet\":\n",
        "    model = torchvision.models.squeezenet1_1(pretrained=True)\n",
        "  elif str_model_name == \"densenet\": # semua jenis densenet --> GPU out of memory\n",
        "    model = torchvision.models.densenet121(pretrained=True)\n",
        "\n",
        "  return model\n",
        "\n",
        "str_model_name = \"mobilenet\"\n",
        "model = import_models(str_model_name)"
      ],
      "execution_count": 8,
      "outputs": [
        {
          "output_type": "stream",
          "text": [
            "Downloading: \"https://download.pytorch.org/models/mobilenet_v2-b0353104.pth\" to /root/.cache/torch/hub/checkpoints/mobilenet_v2-b0353104.pth\n"
          ],
          "name": "stderr"
        },
        {
          "output_type": "display_data",
          "data": {
            "application/vnd.jupyter.widget-view+json": {
              "model_id": "b8613e98fcd04c62b91e9c75d0732893",
              "version_minor": 0,
              "version_major": 2
            },
            "text/plain": [
              "HBox(children=(FloatProgress(value=0.0, max=14212972.0), HTML(value='')))"
            ]
          },
          "metadata": {
            "tags": []
          }
        },
        {
          "output_type": "stream",
          "text": [
            "\n"
          ],
          "name": "stdout"
        }
      ]
    },
    {
      "cell_type": "code",
      "metadata": {
        "id": "pUvKVqk2w5jw",
        "colab_type": "code",
        "colab": {}
      },
      "source": [
        "gpu = torch.device(\"cuda:0\" if torch.cuda.is_available() else \"cpu\")\n",
        "model.to(gpu)\n",
        "\n",
        "criterion = nn.CrossEntropyLoss()\n",
        "optimizer = optim.Adam(model.parameters(), lr=learning_rate)"
      ],
      "execution_count": 9,
      "outputs": []
    },
    {
      "cell_type": "markdown",
      "metadata": {
        "id": "9GRipDIsTmHm",
        "colab_type": "text"
      },
      "source": [
        "# Train Model pakai Pytorch Ignite\n",
        "\n",
        "Inisiasi Training dan Evaluation Engine"
      ]
    },
    {
      "cell_type": "code",
      "metadata": {
        "id": "m9ui6FcMTmHm",
        "colab_type": "code",
        "colab": {}
      },
      "source": [
        "epochs = 25\n",
        "trainer = create_supervised_trainer(model, optimizer, criterion, device=gpu)\n",
        "metrics = {\n",
        "    \"accuracy\": Accuracy(),\n",
        "    \"loss\": Loss(criterion)\n",
        "}\n",
        "train_evaluator = create_supervised_evaluator(model, metrics=metrics, device=gpu)\n",
        "val_evaluator = create_supervised_evaluator(model, metrics=metrics, device=gpu)\n",
        "training_history = {\"accuracy\":[], \"loss\":[]}\n",
        "validation_history = {\"accuracy\":[], \"loss\":[]}\n",
        "last_epoch = []"
      ],
      "execution_count": 10,
      "outputs": []
    },
    {
      "cell_type": "markdown",
      "metadata": {
        "id": "Gcm3ctomTmHp",
        "colab_type": "text"
      },
      "source": [
        "### Metrics - `RunningAverage`"
      ]
    },
    {
      "cell_type": "code",
      "metadata": {
        "id": "D37VuYdqTmHp",
        "colab_type": "code",
        "colab": {}
      },
      "source": [
        "RunningAverage(output_transform=lambda x: x).attach(trainer, \"loss\")"
      ],
      "execution_count": 11,
      "outputs": []
    },
    {
      "cell_type": "markdown",
      "metadata": {
        "id": "IUc7JJp0TmHs",
        "colab_type": "text"
      },
      "source": [
        "### `EarlyStopping` Callbacks"
      ]
    },
    {
      "cell_type": "code",
      "metadata": {
        "id": "jENGdRK8TmHt",
        "colab_type": "code",
        "colab": {
          "base_uri": "https://localhost:8080/",
          "height": 33
        },
        "outputId": "b7777090-7583-404d-f6a6-bfb52b5678e0"
      },
      "source": [
        "def score_function(engine):\n",
        "  val_loss = engine.state.metrics[\"loss\"]\n",
        "  return -val_loss\n",
        "\n",
        "handler = EarlyStopping(patience=10, score_function=score_function, trainer=trainer)\n",
        "val_evaluator.add_event_handler(Events.COMPLETED, handler)"
      ],
      "execution_count": 12,
      "outputs": [
        {
          "output_type": "execute_result",
          "data": {
            "text/plain": [
              "<ignite.engine.events.RemovableEventHandle at 0x7fc016b3e630>"
            ]
          },
          "metadata": {
            "tags": []
          },
          "execution_count": 12
        }
      ]
    },
    {
      "cell_type": "markdown",
      "metadata": {
        "id": "cqT9BgKvTmHv",
        "colab_type": "text"
      },
      "source": [
        "### Buat Custom Function\n",
        "Custom function dibuat untuk menghubungkan dengan dua event yaitu, event saat training dan event saat evaluation."
      ]
    },
    {
      "cell_type": "code",
      "metadata": {
        "id": "22SY-2WXTmHw",
        "colab_type": "code",
        "colab": {
          "base_uri": "https://localhost:8080/",
          "height": 33
        },
        "outputId": "2bac6f12-6f19-4980-d03e-be02cd681b02"
      },
      "source": [
        "@trainer.on(Events.EPOCH_COMPLETED)\n",
        "def log_training_results(trainer):\n",
        "  train_evaluator.run(train_loader)\n",
        "  metrics = train_evaluator.state.metrics\n",
        "  accuracy = metrics[\"accuracy\"] * 100\n",
        "  loss = metrics[\"loss\"]\n",
        "  last_epoch.append(0)\n",
        "  training_history[\"accuracy\"].append(accuracy)\n",
        "  training_history[\"loss\"].append(loss)\n",
        "  print(\"Training Results - Epochs: {} Avg. Accuracy: {:.2f} Avg. Loss: {:.2f}\"\n",
        "        .format(trainer.state.epoch, accuracy, loss))\n",
        "  \n",
        "def log_validation_results(trainer):\n",
        "  val_evaluator.run(test_loader)\n",
        "  metrics = val_evaluator.state.metrics\n",
        "  accuracy = metrics['accuracy']*100\n",
        "  loss = metrics['loss']\n",
        "  validation_history['accuracy'].append(accuracy)\n",
        "  validation_history['loss'].append(loss)\n",
        "  print(\"Validation Results - Epoch: {}  Avg accuracy: {:.2f} Avg loss: {:.2f}\"\n",
        "        .format(trainer.state.epoch, accuracy, loss))\n",
        "  \n",
        "trainer.add_event_handler(Events.EPOCH_COMPLETED, log_validation_results)"
      ],
      "execution_count": 13,
      "outputs": [
        {
          "output_type": "execute_result",
          "data": {
            "text/plain": [
              "<ignite.engine.events.RemovableEventHandle at 0x7fc016b3eba8>"
            ]
          },
          "metadata": {
            "tags": []
          },
          "execution_count": 13
        }
      ]
    },
    {
      "cell_type": "markdown",
      "metadata": {
        "id": "T41KRW0xTmHz",
        "colab_type": "text"
      },
      "source": [
        "### Model Checkpoint"
      ]
    },
    {
      "cell_type": "code",
      "metadata": {
        "id": "YBcWUv3aTmHz",
        "colab_type": "code",
        "colab": {
          "base_uri": "https://localhost:8080/",
          "height": 33
        },
        "outputId": "22410400-4ecf-4f44-aba3-a54f1232c8ea"
      },
      "source": [
        "checkpointer = ModelCheckpoint(\"./saved_models\", \"aksarabali_\", n_saved=5, \n",
        "                               create_dir=True, save_as_state_dict=True, \n",
        "                               require_empty=False)\n",
        "trainer.add_event_handler(Events.EPOCH_COMPLETED, checkpointer, {str_model_name: model})"
      ],
      "execution_count": 14,
      "outputs": [
        {
          "output_type": "execute_result",
          "data": {
            "text/plain": [
              "<ignite.engine.events.RemovableEventHandle at 0x7fc013fd2a90>"
            ]
          },
          "metadata": {
            "tags": []
          },
          "execution_count": 14
        }
      ]
    },
    {
      "cell_type": "markdown",
      "metadata": {
        "id": "S_ttqv8zTmH4",
        "colab_type": "text"
      },
      "source": [
        "### Run the Engine"
      ]
    },
    {
      "cell_type": "code",
      "metadata": {
        "id": "HrRbQ5xnTmH5",
        "colab_type": "code",
        "colab": {
          "base_uri": "https://localhost:8080/",
          "height": 535
        },
        "outputId": "765b28c7-ad58-452e-d32c-eef2036b53af"
      },
      "source": [
        "trainer.run(train_loader, max_epochs=epochs)"
      ],
      "execution_count": 18,
      "outputs": [
        {
          "output_type": "stream",
          "text": [
            "Training Results - Epochs: 5 Avg. Accuracy: 96.22 Avg. Loss: 0.12\n",
            "Validation Results - Epoch: 5  Avg accuracy: 88.58 Avg loss: 0.45\n",
            "Training Results - Epochs: 6 Avg. Accuracy: 96.46 Avg. Loss: 0.12\n",
            "Validation Results - Epoch: 6  Avg accuracy: 87.83 Avg loss: 0.48\n",
            "Training Results - Epochs: 7 Avg. Accuracy: 97.95 Avg. Loss: 0.07\n",
            "Validation Results - Epoch: 7  Avg accuracy: 89.47 Avg loss: 0.43\n",
            "Training Results - Epochs: 8 Avg. Accuracy: 97.17 Avg. Loss: 0.09\n",
            "Validation Results - Epoch: 8  Avg accuracy: 87.81 Avg loss: 0.49\n",
            "Training Results - Epochs: 9 Avg. Accuracy: 97.20 Avg. Loss: 0.09\n",
            "Validation Results - Epoch: 9  Avg accuracy: 88.35 Avg loss: 0.50\n",
            "Training Results - Epochs: 10 Avg. Accuracy: 97.61 Avg. Loss: 0.07\n",
            "Validation Results - Epoch: 10  Avg accuracy: 89.73 Avg loss: 0.43\n",
            "Training Results - Epochs: 11 Avg. Accuracy: 97.52 Avg. Loss: 0.08\n",
            "Validation Results - Epoch: 11  Avg accuracy: 87.91 Avg loss: 0.50\n",
            "Training Results - Epochs: 12 Avg. Accuracy: 97.91 Avg. Loss: 0.06\n",
            "Validation Results - Epoch: 12  Avg accuracy: 89.25 Avg loss: 0.49\n",
            "Training Results - Epochs: 13 Avg. Accuracy: 98.36 Avg. Loss: 0.05\n",
            "Validation Results - Epoch: 13  Avg accuracy: 90.54 Avg loss: 0.46\n",
            "Training Results - Epochs: 14 Avg. Accuracy: 98.29 Avg. Loss: 0.06\n",
            "Validation Results - Epoch: 14  Avg accuracy: 89.42 Avg loss: 0.48\n"
          ],
          "name": "stdout"
        },
        {
          "output_type": "execute_result",
          "data": {
            "text/plain": [
              "State:\n",
              "\titeration: 5408\n",
              "\tepoch: 14\n",
              "\tepoch_length: 416\n",
              "\tmax_epochs: 25\n",
              "\toutput: 0.14774416387081146\n",
              "\tbatch: <class 'list'>\n",
              "\tmetrics: <class 'dict'>\n",
              "\tdataloader: <class 'torch.utils.data.dataloader.DataLoader'>\n",
              "\tseed: <class 'NoneType'>\n",
              "\ttimes: <class 'dict'>"
            ]
          },
          "metadata": {
            "tags": []
          },
          "execution_count": 18
        }
      ]
    },
    {
      "cell_type": "markdown",
      "metadata": {
        "id": "7U18XeABTmH7",
        "colab_type": "text"
      },
      "source": [
        "### Plot loss dan accuracy"
      ]
    },
    {
      "cell_type": "code",
      "metadata": {
        "id": "hDKkTajDTmH8",
        "colab_type": "code",
        "colab": {
          "base_uri": "https://localhost:8080/",
          "height": 541
        },
        "outputId": "4e14dcff-51ea-491e-e0fb-759523e15114"
      },
      "source": [
        "# Accuracy\n",
        "import matplotlib.pyplot as plt\n",
        "\n",
        "plt.plot(training_history[\"accuracy\"], label=\"Training Accuracy\")\n",
        "plt.plot(validation_history[\"accuracy\"], label=\"Validation Accuracy\")\n",
        "plt.xlabel(\"Num. of Epochs\")\n",
        "plt.ylabel(\"Accuracy\")\n",
        "plt.legend(frameon=False)\n",
        "plt.show()\n",
        "\n",
        "# Loss\n",
        "plt.plot(training_history[\"loss\"], label=\"Training Accuracy\")\n",
        "plt.plot(validation_history[\"loss\"], label=\"Validation Accuracy\")\n",
        "plt.xlabel(\"Num. of Epochs\")\n",
        "plt.ylabel(\"Loss\")\n",
        "plt.legend(frameon=False)\n",
        "plt.show()"
      ],
      "execution_count": 19,
      "outputs": [
        {
          "output_type": "display_data",
          "data": {
            "image/png": "[encoded data removed]",
            "text/plain": [
              "<Figure size 432x288 with 1 Axes>"
            ]
          },
          "metadata": {
            "tags": [],
            "needs_background": "light"
          }
        },
        {
          "output_type": "display_data",
          "data": {
            "image/png": "[encoded data removed]",
            "text/plain": [
              "<Figure size 432x288 with 1 Axes>"
            ]
          },
          "metadata": {
            "tags": [],
            "needs_background": "light"
          }
        }
      ]
    },
    {
      "cell_type": "markdown",
      "metadata": {
        "id": "_68fHXrkTmH-",
        "colab_type": "text"
      },
      "source": [
        "### Loading the saved model from the disk"
      ]
    },
    {
      "cell_type": "code",
      "metadata": {
        "id": "1Tp4w4VnTmH_",
        "colab_type": "code",
        "colab": {
          "base_uri": "https://localhost:8080/",
          "height": 33
        },
        "outputId": "d6b3ad52-f950-4d58-a349-4bed7fd973c4"
      },
      "source": [
        "# loading the saved model\n",
        "# def fetch_last_checkpoint_model_filename(model_save_path):\n",
        "#     import os\n",
        "#     checkpoint_files = os.listdir(model_save_path)\n",
        "#     checkpoint_files = [f for f in checkpoint_files if '.pth' in f]\n",
        "#     checkpoint_iter = [\n",
        "#         int(x.split('_')[2].split('.')[0])\n",
        "#         for x in checkpoint_files]\n",
        "#     last_idx = np.array(checkpoint_iter).argmax()\n",
        "#     return os.path.join(model_save_path, checkpoint_files[last_idx])\n",
        "\n",
        "# model.load_state_dict(torch.load(fetch_last_checkpoint_model_filename('./saved_models')))\n",
        "# model.load_state_dict(torch.load('./saved_models/aksarabali_aksarabali_11256.pt'))\n",
        "print(\"Model Loaded\")"
      ],
      "execution_count": 17,
      "outputs": [
        {
          "output_type": "stream",
          "text": [
            "Model Loaded\n"
          ],
          "name": "stdout"
        }
      ]
    }
  ]
}