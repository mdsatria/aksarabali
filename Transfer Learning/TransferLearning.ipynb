{
  "nbformat": 4,
  "nbformat_minor": 0,
  "metadata": {
    "colab": {
      "name": "aksarabali.ipynb",
      "provenance": [],
      "collapsed_sections": [],
      "toc_visible": true,
      "include_colab_link": true
    },
    "kernelspec": {
      "name": "python3",
      "display_name": "Python 3"
    },
    "accelerator": "GPU"
  },
  "cells": [
    {
      "cell_type": "markdown",
      "metadata": {
        "id": "view-in-github",
        "colab_type": "text"
      },
      "source": [
        "<a href=\"https://colab.research.google.com/github/mdsatria/aksarabali/blob/master/Transfer%20Learning/TransferLearningResnet50.ipynb\" target=\"_parent\"><img src=\"https://colab.research.google.com/assets/colab-badge.svg\" alt=\"Open In Colab\"/></a>"
      ]
    },
    {
      "cell_type": "code",
      "metadata": {
        "id": "xj3sl6BwTqln",
        "colab": {
          "base_uri": "https://localhost:8080/"
        },
        "outputId": "4d47c012-d0bd-4e14-bc7b-d98f45f65009"
      },
      "source": [
        "!pip install pytorch-ignite"
      ],
      "execution_count": 47,
      "outputs": [
        {
          "output_type": "stream",
          "text": [
            "Requirement already satisfied: pytorch-ignite in /usr/local/lib/python3.7/dist-packages (0.4.4)\n",
            "Requirement already satisfied: torch<2,>=1.3 in /usr/local/lib/python3.7/dist-packages (from pytorch-ignite) (1.8.1+cu101)\n",
            "Requirement already satisfied: numpy in /usr/local/lib/python3.7/dist-packages (from torch<2,>=1.3->pytorch-ignite) (1.19.5)\n",
            "Requirement already satisfied: typing-extensions in /usr/local/lib/python3.7/dist-packages (from torch<2,>=1.3->pytorch-ignite) (3.7.4.3)\n"
          ],
          "name": "stdout"
        }
      ]
    },
    {
      "cell_type": "code",
      "metadata": {
        "id": "b0bjmo5tZJxi",
        "colab": {
          "base_uri": "https://localhost:8080/"
        },
        "outputId": "db7caf96-5186-4b2b-b279-d22b9dcd828b"
      },
      "source": [
        "from google.colab import drive\n",
        "drive.mount('/content/gdrive')"
      ],
      "execution_count": 48,
      "outputs": [
        {
          "output_type": "stream",
          "text": [
            "Drive already mounted at /content/gdrive; to attempt to forcibly remount, call drive.mount(\"/content/gdrive\", force_remount=True).\n"
          ],
          "name": "stdout"
        }
      ]
    },
    {
      "cell_type": "code",
      "metadata": {
        "id": "1mbN70L2ZMYi"
      },
      "source": [
        "!unzip -qq \"gdrive/My Drive/Colab Notebooks/dataset/Aksara Bali/train.zip\"\n",
        "!unzip -qq \"gdrive/My Drive/Colab Notebooks/dataset/Aksara Bali/test.zip\""
      ],
      "execution_count": null,
      "outputs": []
    },
    {
      "cell_type": "code",
      "metadata": {
        "id": "cFuS94x2TmHQ"
      },
      "source": [
        "import os\n",
        "import numpy as np\n",
        "import pandas as pd\n",
        "from PIL import Image\n",
        "import torch\n",
        "import torchvision\n",
        "import torch.nn as nn\n",
        "import torch.nn.functional as F\n",
        "import torch.optim as optim\n",
        "import torchvision.transforms as transforms\n",
        "from torch.utils.data import DataLoader, Dataset\n",
        "from ignite.engine import Events, create_supervised_trainer, create_supervised_evaluator\n",
        "from ignite.metrics import Accuracy, Loss, RunningAverage\n",
        "from ignite.handlers import ModelCheckpoint, EarlyStopping"
      ],
      "execution_count": 49,
      "outputs": []
    },
    {
      "cell_type": "code",
      "metadata": {
        "id": "_zzzSOwdTmHT",
        "colab": {
          "base_uri": "https://localhost:8080/"
        },
        "outputId": "920efcde-2e93-45fd-9eb7-07e495432dfe"
      },
      "source": [
        "print(torch.cuda.device_count())\n",
        "print(torch.cuda.get_device_name(0))"
      ],
      "execution_count": 50,
      "outputs": [
        {
          "output_type": "stream",
          "text": [
            "1\n",
            "Tesla T4\n"
          ],
          "name": "stdout"
        }
      ]
    },
    {
      "cell_type": "markdown",
      "metadata": {
        "id": "p1CfPfTBTmHY"
      },
      "source": [
        "## Data Loader"
      ]
    },
    {
      "cell_type": "code",
      "metadata": {
        "id": "M9yGfH1QaDx7"
      },
      "source": [
        "class AksaraBali(Dataset):\n",
        "    def __init__(self, csv_file, root_dir, height=224, width=224, transform=None):\n",
        "        self.annotations = pd.read_csv(csv_file, header=None)\n",
        "        self.root_dir = root_dir\n",
        "        self.transform = transform\n",
        "        self.height = height\n",
        "        self.width = width\n",
        "       \n",
        "    def __len__(self):\n",
        "        return len(self.annotations)\n",
        "    \n",
        "    def __getitem__(self, index):\n",
        "        img_path = os.path.join(self.root_dir, self.annotations.iloc[index,0])\n",
        "        image = Image.open(img_path).resize((self.height, self.width))\n",
        "        y_label = torch.tensor(self.annotations.iloc[index,2], dtype=torch.long)\n",
        "        \n",
        "        if self.transform:\n",
        "            image = self.transform(image)\n",
        "            \n",
        "        return(image, y_label)"
      ],
      "execution_count": 51,
      "outputs": []
    },
    {
      "cell_type": "markdown",
      "metadata": {
        "id": "WUd8DXpITmHe"
      },
      "source": [
        "## Set Training Params"
      ]
    },
    {
      "cell_type": "code",
      "metadata": {
        "id": "P2ApqPIeTmHf"
      },
      "source": [
        "in_channel = 3\n",
        "num_classes = 133\n",
        "learning_rate = 0.004\n",
        "batch_size = 64\n",
        "\n",
        "# tranform\n",
        "my_transform = transforms.Compose([transforms.ToTensor(),\n",
        "                                   transforms.Normalize(mean=(0.5005, 0.4670, 0.4174), \n",
        "                                                        std=(0.0813, 0.0534, 0.0932))])\n",
        "\n",
        "train_set = AksaraBali(\n",
        "    csv_file=\"gdrive/My Drive/Colab Notebooks/datasets/Aksara Bali/train_label.csv\",\n",
        "    root_dir=\"train\",\n",
        "    transform=my_transform\n",
        "    )\n",
        "\n",
        "test_set = AksaraBali(\n",
        "    csv_file=\"gdrive/My Drive/Colab Notebooks/datasets/Aksara Bali/test_label.csv\",\n",
        "    root_dir=\"test\",\n",
        "    transform=my_transform\n",
        "    )\n",
        "\n",
        "#train_set = torch.utils.data(dataset)\n",
        "train_loader = DataLoader(\n",
        "    dataset=train_set,\n",
        "    batch_size=batch_size,\n",
        "    shuffle=True\n",
        "    )\n",
        "\n",
        "test_loader = DataLoader(\n",
        "    dataset=test_set,\n",
        "    shuffle=False,\n",
        "    batch_size=batch_size)\n",
        "#test_loader = DataLoader(dataset=test_set, batch_size=batch_size, shuffle=True)"
      ],
      "execution_count": 53,
      "outputs": []
    },
    {
      "cell_type": "code",
      "metadata": {
        "id": "TL2urpO9swZE"
      },
      "source": [
        "def import_models(str_model_name):\n",
        "  if str_model_name == \"resnet\":\n",
        "    model = torchvision.models.resnet152(pretrained=True)\n",
        "  elif str_model_name == \"vgg\": # Kurang cocok, tapi belum coba varian vgg yg lain, tapi kyknya sama aja.\n",
        "    model = torchvision.models.vgg16(pretrained=True) \n",
        "  elif str_model_name == \"mobilenet\":\n",
        "    model = torchvision.models.mobilenet_v2(pretrained=True)\n",
        "  elif str_model_name == \"inception\": # tidak kompatible dgn input channel, perlu input 5x5\n",
        "    model = torchvision.models.inception_v3(pretrained=True)\n",
        "  elif str_model_name == \"squeezenet\":\n",
        "    model = torchvision.models.squeezenet1_1(pretrained=True)\n",
        "  elif str_model_name == \"densenet\": # semua jenis densenet --> GPU out of memory\n",
        "    model = torchvision.models.densenet121(pretrained=True)\n",
        "\n",
        "  return model\n",
        "\n",
        "str_model_name = \"mobilenet\"\n",
        "model = import_models(str_model_name)"
      ],
      "execution_count": 40,
      "outputs": []
    },
    {
      "cell_type": "code",
      "metadata": {
        "id": "pUvKVqk2w5jw"
      },
      "source": [
        "gpu = torch.device(\"cuda:0\" if torch.cuda.is_available() else \"cpu\")\n",
        "model.to(gpu)\n",
        "\n",
        "criterion = nn.CrossEntropyLoss()\n",
        "optimizer = optim.Adam(model.parameters(), lr=learning_rate)"
      ],
      "execution_count": 41,
      "outputs": []
    },
    {
      "cell_type": "markdown",
      "metadata": {
        "id": "9GRipDIsTmHm"
      },
      "source": [
        "# Train Model pakai Pytorch Ignite\n",
        "\n",
        "Inisiasi Training dan Evaluation Engine"
      ]
    },
    {
      "cell_type": "code",
      "metadata": {
        "id": "m9ui6FcMTmHm"
      },
      "source": [
        "epochs = 100\n",
        "trainer = create_supervised_trainer(model, optimizer, criterion, device=gpu)\n",
        "metrics = {\n",
        "    \"accuracy\": Accuracy(),\n",
        "    \"loss\": Loss(criterion)\n",
        "}\n",
        "train_evaluator = create_supervised_evaluator(model, metrics=metrics, device=gpu)\n",
        "val_evaluator = create_supervised_evaluator(model, metrics=metrics, device=gpu)\n",
        "training_history = {\"accuracy\":[], \"loss\":[]}\n",
        "validation_history = {\"accuracy\":[], \"loss\":[]}\n",
        "last_epoch = []"
      ],
      "execution_count": null,
      "outputs": []
    },
    {
      "cell_type": "markdown",
      "metadata": {
        "id": "Gcm3ctomTmHp"
      },
      "source": [
        "### Metrics - `RunningAverage`"
      ]
    },
    {
      "cell_type": "code",
      "metadata": {
        "id": "D37VuYdqTmHp"
      },
      "source": [
        "RunningAverage(output_transform=lambda x: x).attach(trainer, \"loss\")"
      ],
      "execution_count": null,
      "outputs": []
    },
    {
      "cell_type": "markdown",
      "metadata": {
        "id": "IUc7JJp0TmHs"
      },
      "source": [
        "### `EarlyStopping` Callbacks"
      ]
    },
    {
      "cell_type": "code",
      "metadata": {
        "id": "jENGdRK8TmHt",
        "colab": {
          "base_uri": "https://localhost:8080/",
          "height": 33
        },
        "outputId": "aef38847-2d03-4d75-d802-69623579ab35"
      },
      "source": [
        "def score_function(engine):\n",
        "  val_loss = engine.state.metrics[\"loss\"]\n",
        "  return -val_loss\n",
        "\n",
        "handler = EarlyStopping(patience=20, score_function=score_function, trainer=trainer)\n",
        "val_evaluator.add_event_handler(Events.COMPLETED, handler)"
      ],
      "execution_count": null,
      "outputs": [
        {
          "output_type": "execute_result",
          "data": {
            "text/plain": [
              "<ignite.engine.events.RemovableEventHandle at 0x7f9e4cdb75f8>"
            ]
          },
          "metadata": {
            "tags": []
          },
          "execution_count": 12
        }
      ]
    },
    {
      "cell_type": "markdown",
      "metadata": {
        "id": "cqT9BgKvTmHv"
      },
      "source": [
        "### Buat Custom Function\n",
        "Custom function dibuat untuk menghubungkan dengan dua event yaitu, event saat training dan event saat evaluation."
      ]
    },
    {
      "cell_type": "code",
      "metadata": {
        "id": "22SY-2WXTmHw",
        "colab": {
          "base_uri": "https://localhost:8080/",
          "height": 33
        },
        "outputId": "397c2a51-fbb2-4957-fd59-49e16689821e"
      },
      "source": [
        "@trainer.on(Events.EPOCH_COMPLETED)\n",
        "def log_training_results(trainer):\n",
        "  train_evaluator.run(train_loader)\n",
        "  metrics = train_evaluator.state.metrics\n",
        "  accuracy = metrics[\"accuracy\"] * 100\n",
        "  loss = metrics[\"loss\"]\n",
        "  last_epoch.append(0)\n",
        "  training_history[\"accuracy\"].append(accuracy)\n",
        "  training_history[\"loss\"].append(loss)\n",
        "  print(\"Training Results - Epochs: {} Avg. Accuracy: {:.2f} Avg. Loss: {:.2f}\"\n",
        "        .format(trainer.state.epoch, accuracy, loss))\n",
        "  \n",
        "def log_validation_results(trainer):\n",
        "  val_evaluator.run(test_loader)\n",
        "  metrics = val_evaluator.state.metrics\n",
        "  accuracy = metrics[\"accuracy\"]*100\n",
        "  loss = metrics[\"loss\"]\n",
        "  validation_history[\"accuracy\"].append(accuracy)\n",
        "  validation_history[\"loss\"].append(loss)\n",
        "  print(\"Validation Results - Epoch: {}  Avg accuracy: {:.2f} Avg loss: {:.2f}\"\n",
        "        .format(trainer.state.epoch, accuracy, loss))\n",
        "  \n",
        "trainer.add_event_handler(Events.EPOCH_COMPLETED, log_validation_results)"
      ],
      "execution_count": null,
      "outputs": [
        {
          "output_type": "execute_result",
          "data": {
            "text/plain": [
              "<ignite.engine.events.RemovableEventHandle at 0x7f9e4d574908>"
            ]
          },
          "metadata": {
            "tags": []
          },
          "execution_count": 13
        }
      ]
    },
    {
      "cell_type": "markdown",
      "metadata": {
        "id": "T41KRW0xTmHz"
      },
      "source": [
        "### Model Checkpoint"
      ]
    },
    {
      "cell_type": "code",
      "metadata": {
        "id": "YBcWUv3aTmHz",
        "colab": {
          "base_uri": "https://localhost:8080/",
          "height": 33
        },
        "outputId": "5cdc4e05-c119-4665-e84d-fe36c8ecab1d"
      },
      "source": [
        "checkpointer = ModelCheckpoint(\"./saved_models\", \"aksarabali_\", n_saved=5, \n",
        "                               create_dir=True, save_as_state_dict=True, \n",
        "                               require_empty=False)\n",
        "trainer.add_event_handler(Events.EPOCH_COMPLETED, checkpointer, {str_model_name: model})"
      ],
      "execution_count": null,
      "outputs": [
        {
          "output_type": "execute_result",
          "data": {
            "text/plain": [
              "<ignite.engine.events.RemovableEventHandle at 0x7f9e4cdb7710>"
            ]
          },
          "metadata": {
            "tags": []
          },
          "execution_count": 14
        }
      ]
    },
    {
      "cell_type": "markdown",
      "metadata": {
        "id": "S_ttqv8zTmH4"
      },
      "source": [
        "### Run the Engine"
      ]
    },
    {
      "cell_type": "code",
      "metadata": {
        "id": "HrRbQ5xnTmH5",
        "colab": {
          "base_uri": "https://localhost:8080/"
        },
        "outputId": "fb293cb8-3ea5-41a7-9c55-12f7de458d4f"
      },
      "source": [
        "trainer.run(train_loader, max_epochs=epochs)"
      ],
      "execution_count": 34,
      "outputs": [
        {
          "output_type": "stream",
          "text": [
            "Training Results - Epochs: 1 Avg. Accuracy: 70.43 Avg. Loss: 1.00\n",
            "Validation Results - Epoch: 1  Avg accuracy: 67.63 Avg loss: 1.17\n",
            "Training Results - Epochs: 2 Avg. Accuracy: 86.37 Avg. Loss: 0.46\n",
            "Validation Results - Epoch: 2  Avg accuracy: 80.54 Avg loss: 0.68\n",
            "Training Results - Epochs: 3 Avg. Accuracy: 89.26 Avg. Loss: 0.37\n",
            "Validation Results - Epoch: 3  Avg accuracy: 81.57 Avg loss: 0.71\n",
            "Training Results - Epochs: 4 Avg. Accuracy: 91.83 Avg. Loss: 0.28\n",
            "Validation Results - Epoch: 4  Avg accuracy: 82.41 Avg loss: 0.66\n",
            "Training Results - Epochs: 5 Avg. Accuracy: 90.19 Avg. Loss: 0.31\n",
            "Validation Results - Epoch: 5  Avg accuracy: 83.02 Avg loss: 0.67\n",
            "Training Results - Epochs: 6 Avg. Accuracy: 94.42 Avg. Loss: 0.19\n",
            "Validation Results - Epoch: 6  Avg accuracy: 87.10 Avg loss: 0.49\n",
            "Training Results - Epochs: 7 Avg. Accuracy: 96.47 Avg. Loss: 0.12\n",
            "Validation Results - Epoch: 7  Avg accuracy: 87.78 Avg loss: 0.47\n",
            "Training Results - Epochs: 8 Avg. Accuracy: 94.91 Avg. Loss: 0.16\n",
            "Validation Results - Epoch: 8  Avg accuracy: 86.81 Avg loss: 0.53\n",
            "Training Results - Epochs: 9 Avg. Accuracy: 95.26 Avg. Loss: 0.15\n",
            "Validation Results - Epoch: 9  Avg accuracy: 86.55 Avg loss: 0.56\n",
            "Training Results - Epochs: 10 Avg. Accuracy: 95.89 Avg. Loss: 0.14\n",
            "Validation Results - Epoch: 10  Avg accuracy: 85.46 Avg loss: 0.57\n",
            "Training Results - Epochs: 11 Avg. Accuracy: 96.53 Avg. Loss: 0.11\n",
            "Validation Results - Epoch: 11  Avg accuracy: 85.66 Avg loss: 0.61\n",
            "Training Results - Epochs: 12 Avg. Accuracy: 96.53 Avg. Loss: 0.11\n",
            "Validation Results - Epoch: 12  Avg accuracy: 86.47 Avg loss: 0.54\n",
            "Training Results - Epochs: 13 Avg. Accuracy: 97.71 Avg. Loss: 0.07\n",
            "Validation Results - Epoch: 13  Avg accuracy: 87.75 Avg loss: 0.52\n",
            "Training Results - Epochs: 14 Avg. Accuracy: 97.18 Avg. Loss: 0.09\n",
            "Validation Results - Epoch: 14  Avg accuracy: 87.76 Avg loss: 0.51\n",
            "Training Results - Epochs: 15 Avg. Accuracy: 97.38 Avg. Loss: 0.08\n",
            "Validation Results - Epoch: 15  Avg accuracy: 87.64 Avg loss: 0.53\n",
            "Training Results - Epochs: 16 Avg. Accuracy: 96.03 Avg. Loss: 0.12\n",
            "Validation Results - Epoch: 16  Avg accuracy: 86.59 Avg loss: 0.59\n",
            "Training Results - Epochs: 17 Avg. Accuracy: 97.61 Avg. Loss: 0.08\n",
            "Validation Results - Epoch: 17  Avg accuracy: 86.99 Avg loss: 0.55\n",
            "Training Results - Epochs: 18 Avg. Accuracy: 97.80 Avg. Loss: 0.07\n",
            "Validation Results - Epoch: 18  Avg accuracy: 88.56 Avg loss: 0.49\n",
            "Training Results - Epochs: 19 Avg. Accuracy: 96.98 Avg. Loss: 0.09\n",
            "Validation Results - Epoch: 19  Avg accuracy: 88.57 Avg loss: 0.53\n",
            "Training Results - Epochs: 20 Avg. Accuracy: 97.49 Avg. Loss: 0.09\n",
            "Validation Results - Epoch: 20  Avg accuracy: 88.52 Avg loss: 0.53\n",
            "Training Results - Epochs: 21 Avg. Accuracy: 97.93 Avg. Loss: 0.06\n",
            "Validation Results - Epoch: 21  Avg accuracy: 88.45 Avg loss: 0.53\n",
            "Training Results - Epochs: 22 Avg. Accuracy: 98.09 Avg. Loss: 0.06\n",
            "Validation Results - Epoch: 22  Avg accuracy: 90.38 Avg loss: 0.48\n",
            "Training Results - Epochs: 23 Avg. Accuracy: 98.19 Avg. Loss: 0.06\n",
            "Validation Results - Epoch: 23  Avg accuracy: 88.71 Avg loss: 0.52\n",
            "Training Results - Epochs: 24 Avg. Accuracy: 97.35 Avg. Loss: 0.08\n",
            "Validation Results - Epoch: 24  Avg accuracy: 88.43 Avg loss: 0.54\n",
            "Training Results - Epochs: 25 Avg. Accuracy: 98.64 Avg. Loss: 0.04\n",
            "Validation Results - Epoch: 25  Avg accuracy: 89.85 Avg loss: 0.49\n",
            "Training Results - Epochs: 26 Avg. Accuracy: 98.26 Avg. Loss: 0.05\n",
            "Validation Results - Epoch: 26  Avg accuracy: 89.13 Avg loss: 0.54\n",
            "Training Results - Epochs: 27 Avg. Accuracy: 98.84 Avg. Loss: 0.03\n"
          ],
          "name": "stdout"
        },
        {
          "output_type": "stream",
          "text": [
            "2021-05-30 06:05:35,278 ignite.handlers.early_stopping.EarlyStopping INFO: EarlyStopping: Stop training\n"
          ],
          "name": "stderr"
        },
        {
          "output_type": "stream",
          "text": [
            "Validation Results - Epoch: 27  Avg accuracy: 89.64 Avg loss: 0.49\n"
          ],
          "name": "stdout"
        },
        {
          "output_type": "execute_result",
          "data": {
            "text/plain": [
              "State:\n",
              "\titeration: 11232\n",
              "\tepoch: 27\n",
              "\tepoch_length: 416\n",
              "\tmax_epochs: 100\n",
              "\toutput: 0.001779112033545971\n",
              "\tbatch: <class 'list'>\n",
              "\tmetrics: <class 'dict'>\n",
              "\tdataloader: <class 'torch.utils.data.dataloader.DataLoader'>\n",
              "\tseed: <class 'NoneType'>\n",
              "\ttimes: <class 'dict'>"
            ]
          },
          "metadata": {
            "tags": []
          },
          "execution_count": 34
        }
      ]
    },
    {
      "cell_type": "markdown",
      "metadata": {
        "id": "7U18XeABTmH7"
      },
      "source": [
        "### Plot loss dan accuracy"
      ]
    },
    {
      "cell_type": "code",
      "metadata": {
        "id": "hDKkTajDTmH8",
        "colab": {
          "base_uri": "https://localhost:8080/",
          "height": 543
        },
        "outputId": "4cd85794-2d20-4bc7-b49f-5f43349e5f52"
      },
      "source": [
        "# Accuracy\n",
        "import matplotlib.pyplot as plt\n",
        "\n",
        "plt.plot(training_history[\"accuracy\"], label=\"Training Accuracy\")\n",
        "plt.plot(validation_history[\"accuracy\"], label=\"Validation Accuracy\")\n",
        "plt.xlabel(\"Num. of Epochs\")\n",
        "plt.ylabel(\"Accuracy\")\n",
        "plt.legend(frameon=False)\n",
        "plt.show()\n",
        "\n",
        "# Loss\n",
        "plt.plot(training_history[\"loss\"], label=\"Training Accuracy\")\n",
        "plt.plot(validation_history[\"loss\"], label=\"Validation Accuracy\")\n",
        "plt.xlabel(\"Num. of Epochs\")\n",
        "plt.ylabel(\"Loss\")\n",
        "plt.legend(frameon=False)\n",
        "plt.show()"
      ],
      "execution_count": 35,
      "outputs": [
        {
          "output_type": "display_data",
          "data": {
            "image/png": "[encoded data removed]",
            "text/plain": [
              "<Figure size 432x288 with 1 Axes>"
            ]
          },
          "metadata": {
            "tags": [],
            "needs_background": "light"
          }
        },
        {
          "output_type": "display_data",
          "data": {
            "image/png": "[encoded data removed]",
            "text/plain": [
              "<Figure size 432x288 with 1 Axes>"
            ]
          },
          "metadata": {
            "tags": [],
            "needs_background": "light"
          }
        }
      ]
    },
    {
      "cell_type": "markdown",
      "metadata": {
        "id": "_68fHXrkTmH-"
      },
      "source": [
        "### Loading the saved model from the disk"
      ]
    },
    {
      "cell_type": "code",
      "metadata": {
        "id": "1Tp4w4VnTmH_"
      },
      "source": [
        "# loading the saved model\n",
        "# def fetch_last_checkpoint_model_filename(model_save_path):\n",
        "#     import os\n",
        "#     checkpoint_files = os.listdir(model_save_path)\n",
        "#     checkpoint_files = [f for f in checkpoint_files if '.pt' in f]\n",
        "#     checkpoint_iter = [\n",
        "#         int(x.split('_')[2].split('.')[0])\n",
        "#         for x in checkpoint_files]\n",
        "#     last_idx = np.array(checkpoint_iter).argmax()\n",
        "#     return os.path.join(model_save_path, checkpoint_files[last_idx])\n",
        "\n",
        "# model.load_state_dict(torch.load(fetch_last_checkpoint_model_filename('saved_models')))\n",
        "# model.load_state_dict(torch.load('saved_models/aksarabali_aksarabali_11232.pt'))\n",
        "# print(\"Model Loaded\")"
      ],
      "execution_count": 46,
      "outputs": []
    },
    {
      "cell_type": "code",
      "metadata": {
        "id": "eGr3lW1042bS"
      },
      "source": [
        ""
      ],
      "execution_count": null,
      "outputs": []
    }
  ]
}