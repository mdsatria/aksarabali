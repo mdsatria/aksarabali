{
  "nbformat": 4,
  "nbformat_minor": 0,
  "metadata": {
    "colab": {
      "name": "aksarabali.ipynb",
      "provenance": [],
      "collapsed_sections": [],
      "include_colab_link": true
    },
    "kernelspec": {
      "name": "python3",
      "display_name": "Python 3"
    },
    "accelerator": "GPU",
    "widgets": {
      "application/vnd.jupyter.widget-state+json": {
        "7600532dc32f4c26bace76b7ce583373": {
          "model_module": "@jupyter-widgets/controls",
          "model_name": "HBoxModel",
          "state": {
            "_view_name": "HBoxView",
            "_dom_classes": [],
            "_model_name": "HBoxModel",
            "_view_module": "@jupyter-widgets/controls",
            "_model_module_version": "1.5.0",
            "_view_count": null,
            "_view_module_version": "1.5.0",
            "box_style": "",
            "layout": "IPY_MODEL_e1250a2d66b646e2b63e53e88b0142a3",
            "_model_module": "@jupyter-widgets/controls",
            "children": [
              "IPY_MODEL_37438450a1944238afe2d7df299d0d16",
              "IPY_MODEL_e0ba9b81f7eb481abc73550857d991da"
            ]
          }
        },
        "e1250a2d66b646e2b63e53e88b0142a3": {
          "model_module": "@jupyter-widgets/base",
          "model_name": "LayoutModel",
          "state": {
            "_view_name": "LayoutView",
            "grid_template_rows": null,
            "right": null,
            "justify_content": null,
            "_view_module": "@jupyter-widgets/base",
            "overflow": null,
            "_model_module_version": "1.2.0",
            "_view_count": null,
            "flex_flow": null,
            "width": null,
            "min_width": null,
            "border": null,
            "align_items": null,
            "bottom": null,
            "_model_module": "@jupyter-widgets/base",
            "top": null,
            "grid_column": null,
            "overflow_y": null,
            "overflow_x": null,
            "grid_auto_flow": null,
            "grid_area": null,
            "grid_template_columns": null,
            "flex": null,
            "_model_name": "LayoutModel",
            "justify_items": null,
            "grid_row": null,
            "max_height": null,
            "align_content": null,
            "visibility": null,
            "align_self": null,
            "height": null,
            "min_height": null,
            "padding": null,
            "grid_auto_rows": null,
            "grid_gap": null,
            "max_width": null,
            "order": null,
            "_view_module_version": "1.2.0",
            "grid_template_areas": null,
            "object_position": null,
            "object_fit": null,
            "grid_auto_columns": null,
            "margin": null,
            "display": null,
            "left": null
          }
        },
        "37438450a1944238afe2d7df299d0d16": {
          "model_module": "@jupyter-widgets/controls",
          "model_name": "FloatProgressModel",
          "state": {
            "_view_name": "ProgressView",
            "style": "IPY_MODEL_646f424f44f94840909ed3f745fb7a58",
            "_dom_classes": [],
            "description": "100%",
            "_model_name": "FloatProgressModel",
            "bar_style": "success",
            "max": 14212972,
            "_view_module": "@jupyter-widgets/controls",
            "_model_module_version": "1.5.0",
            "value": 14212972,
            "_view_count": null,
            "_view_module_version": "1.5.0",
            "orientation": "horizontal",
            "min": 0,
            "description_tooltip": null,
            "_model_module": "@jupyter-widgets/controls",
            "layout": "IPY_MODEL_43c1600431c14200808b52ee56d629e1"
          }
        },
        "e0ba9b81f7eb481abc73550857d991da": {
          "model_module": "@jupyter-widgets/controls",
          "model_name": "HTMLModel",
          "state": {
            "_view_name": "HTMLView",
            "style": "IPY_MODEL_c56fbf55814b4fc9a124af499bf38b04",
            "_dom_classes": [],
            "description": "",
            "_model_name": "HTMLModel",
            "placeholder": "​",
            "_view_module": "@jupyter-widgets/controls",
            "_model_module_version": "1.5.0",
            "value": " 13.6M/13.6M [00:08&lt;00:00, 1.63MB/s]",
            "_view_count": null,
            "_view_module_version": "1.5.0",
            "description_tooltip": null,
            "_model_module": "@jupyter-widgets/controls",
            "layout": "IPY_MODEL_3398ee91b1e647278c6276a23306ca9c"
          }
        },
        "646f424f44f94840909ed3f745fb7a58": {
          "model_module": "@jupyter-widgets/controls",
          "model_name": "ProgressStyleModel",
          "state": {
            "_view_name": "StyleView",
            "_model_name": "ProgressStyleModel",
            "description_width": "initial",
            "_view_module": "@jupyter-widgets/base",
            "_model_module_version": "1.5.0",
            "_view_count": null,
            "_view_module_version": "1.2.0",
            "bar_color": null,
            "_model_module": "@jupyter-widgets/controls"
          }
        },
        "43c1600431c14200808b52ee56d629e1": {
          "model_module": "@jupyter-widgets/base",
          "model_name": "LayoutModel",
          "state": {
            "_view_name": "LayoutView",
            "grid_template_rows": null,
            "right": null,
            "justify_content": null,
            "_view_module": "@jupyter-widgets/base",
            "overflow": null,
            "_model_module_version": "1.2.0",
            "_view_count": null,
            "flex_flow": null,
            "width": null,
            "min_width": null,
            "border": null,
            "align_items": null,
            "bottom": null,
            "_model_module": "@jupyter-widgets/base",
            "top": null,
            "grid_column": null,
            "overflow_y": null,
            "overflow_x": null,
            "grid_auto_flow": null,
            "grid_area": null,
            "grid_template_columns": null,
            "flex": null,
            "_model_name": "LayoutModel",
            "justify_items": null,
            "grid_row": null,
            "max_height": null,
            "align_content": null,
            "visibility": null,
            "align_self": null,
            "height": null,
            "min_height": null,
            "padding": null,
            "grid_auto_rows": null,
            "grid_gap": null,
            "max_width": null,
            "order": null,
            "_view_module_version": "1.2.0",
            "grid_template_areas": null,
            "object_position": null,
            "object_fit": null,
            "grid_auto_columns": null,
            "margin": null,
            "display": null,
            "left": null
          }
        },
        "c56fbf55814b4fc9a124af499bf38b04": {
          "model_module": "@jupyter-widgets/controls",
          "model_name": "DescriptionStyleModel",
          "state": {
            "_view_name": "StyleView",
            "_model_name": "DescriptionStyleModel",
            "description_width": "",
            "_view_module": "@jupyter-widgets/base",
            "_model_module_version": "1.5.0",
            "_view_count": null,
            "_view_module_version": "1.2.0",
            "_model_module": "@jupyter-widgets/controls"
          }
        },
        "3398ee91b1e647278c6276a23306ca9c": {
          "model_module": "@jupyter-widgets/base",
          "model_name": "LayoutModel",
          "state": {
            "_view_name": "LayoutView",
            "grid_template_rows": null,
            "right": null,
            "justify_content": null,
            "_view_module": "@jupyter-widgets/base",
            "overflow": null,
            "_model_module_version": "1.2.0",
            "_view_count": null,
            "flex_flow": null,
            "width": null,
            "min_width": null,
            "border": null,
            "align_items": null,
            "bottom": null,
            "_model_module": "@jupyter-widgets/base",
            "top": null,
            "grid_column": null,
            "overflow_y": null,
            "overflow_x": null,
            "grid_auto_flow": null,
            "grid_area": null,
            "grid_template_columns": null,
            "flex": null,
            "_model_name": "LayoutModel",
            "justify_items": null,
            "grid_row": null,
            "max_height": null,
            "align_content": null,
            "visibility": null,
            "align_self": null,
            "height": null,
            "min_height": null,
            "padding": null,
            "grid_auto_rows": null,
            "grid_gap": null,
            "max_width": null,
            "order": null,
            "_view_module_version": "1.2.0",
            "grid_template_areas": null,
            "object_position": null,
            "object_fit": null,
            "grid_auto_columns": null,
            "margin": null,
            "display": null,
            "left": null
          }
        }
      }
    }
  },
  "cells": [
    {
      "cell_type": "markdown",
      "metadata": {
        "id": "view-in-github",
        "colab_type": "text"
      },
      "source": [
        "<a href=\"https://colab.research.google.com/github/mdsatria/aksarabali/blob/update/Transfer%20Learning/TransferLearningResnet50.ipynb\" target=\"_parent\"><img src=\"https://colab.research.google.com/assets/colab-badge.svg\" alt=\"Open In Colab\"/></a>"
      ]
    },
    {
      "cell_type": "code",
      "metadata": {
        "id": "xj3sl6BwTqln",
        "colab_type": "code",
        "colab": {
          "base_uri": "https://localhost:8080/",
          "height": 170
        },
        "outputId": "143896dd-3069-48a2-fd35-f9da604fa9ac"
      },
      "source": [
        "!pip install pytorch-ignite"
      ],
      "execution_count": 1,
      "outputs": [
        {
          "output_type": "stream",
          "text": [
            "Collecting pytorch-ignite\n",
            "\u001b[?25l  Downloading https://files.pythonhosted.org/packages/14/98/0a5b83d82ff245d3de5f09808fb80ff0ed03f6b10933979e6018b1dd0eaa/pytorch_ignite-0.4.2-py2.py3-none-any.whl (175kB)\n",
            "\r\u001b[K     |█▉                              | 10kB 15.2MB/s eta 0:00:01\r\u001b[K     |███▊                            | 20kB 4.4MB/s eta 0:00:01\r\u001b[K     |█████▋                          | 30kB 5.8MB/s eta 0:00:01\r\u001b[K     |███████▌                        | 40kB 5.8MB/s eta 0:00:01\r\u001b[K     |█████████▍                      | 51kB 4.9MB/s eta 0:00:01\r\u001b[K     |███████████▏                    | 61kB 5.3MB/s eta 0:00:01\r\u001b[K     |█████████████                   | 71kB 5.8MB/s eta 0:00:01\r\u001b[K     |███████████████                 | 81kB 6.2MB/s eta 0:00:01\r\u001b[K     |████████████████▉               | 92kB 6.3MB/s eta 0:00:01\r\u001b[K     |██████████████████▊             | 102kB 6.4MB/s eta 0:00:01\r\u001b[K     |████████████████████▌           | 112kB 6.4MB/s eta 0:00:01\r\u001b[K     |██████████████████████▍         | 122kB 6.4MB/s eta 0:00:01\r\u001b[K     |████████████████████████▎       | 133kB 6.4MB/s eta 0:00:01\r\u001b[K     |██████████████████████████▏     | 143kB 6.4MB/s eta 0:00:01\r\u001b[K     |████████████████████████████    | 153kB 6.4MB/s eta 0:00:01\r\u001b[K     |█████████████████████████████▉  | 163kB 6.4MB/s eta 0:00:01\r\u001b[K     |███████████████████████████████▊| 174kB 6.4MB/s eta 0:00:01\r\u001b[K     |████████████████████████████████| 184kB 6.4MB/s \n",
            "\u001b[?25hRequirement already satisfied: torch<2,>=1.3 in /usr/local/lib/python3.6/dist-packages (from pytorch-ignite) (1.6.0+cu101)\n",
            "Requirement already satisfied: numpy in /usr/local/lib/python3.6/dist-packages (from torch<2,>=1.3->pytorch-ignite) (1.18.5)\n",
            "Requirement already satisfied: future in /usr/local/lib/python3.6/dist-packages (from torch<2,>=1.3->pytorch-ignite) (0.16.0)\n",
            "Installing collected packages: pytorch-ignite\n",
            "Successfully installed pytorch-ignite-0.4.2\n"
          ],
          "name": "stdout"
        }
      ]
    },
    {
      "cell_type": "code",
      "metadata": {
        "id": "b0bjmo5tZJxi",
        "colab_type": "code",
        "colab": {
          "base_uri": "https://localhost:8080/",
          "height": 33
        },
        "outputId": "24ddf32d-6f2a-4083-d12c-b8697525f71c"
      },
      "source": [
        "from google.colab import drive\n",
        "drive.mount('/content/gdrive')"
      ],
      "execution_count": 2,
      "outputs": [
        {
          "output_type": "stream",
          "text": [
            "Mounted at /content/gdrive\n"
          ],
          "name": "stdout"
        }
      ]
    },
    {
      "cell_type": "code",
      "metadata": {
        "id": "1mbN70L2ZMYi",
        "colab_type": "code",
        "colab": {}
      },
      "source": [
        "!unzip -qq \"gdrive/My Drive/Colab Notebooks/dataset/Aksara Bali/train.zip\"\n",
        "!unzip -qq \"gdrive/My Drive/Colab Notebooks/dataset/Aksara Bali/test.zip\""
      ],
      "execution_count": 3,
      "outputs": []
    },
    {
      "cell_type": "code",
      "metadata": {
        "id": "cFuS94x2TmHQ",
        "colab_type": "code",
        "colab": {}
      },
      "source": [
        "import os\n",
        "import pandas as pd\n",
        "from PIL import Image\n",
        "import torch\n",
        "import torchvision\n",
        "import torch.nn as nn\n",
        "import torch.nn.functional as F\n",
        "import torch.optim as optim\n",
        "import torchvision.transforms as transforms\n",
        "from torch.utils.data import DataLoader, Dataset\n",
        "from ignite.engine import Events, create_supervised_trainer, create_supervised_evaluator\n",
        "from ignite.metrics import Accuracy, Loss, RunningAverage\n",
        "from ignite.handlers import ModelCheckpoint, EarlyStopping"
      ],
      "execution_count": 4,
      "outputs": []
    },
    {
      "cell_type": "code",
      "metadata": {
        "id": "_zzzSOwdTmHT",
        "colab_type": "code",
        "colab": {
          "base_uri": "https://localhost:8080/",
          "height": 50
        },
        "outputId": "9d089a3a-ab3b-4e99-c3cc-39acce253e5a"
      },
      "source": [
        "print(torch.cuda.device_count())\n",
        "print(torch.cuda.get_device_name(0))"
      ],
      "execution_count": 5,
      "outputs": [
        {
          "output_type": "stream",
          "text": [
            "1\n",
            "Tesla K80\n"
          ],
          "name": "stdout"
        }
      ]
    },
    {
      "cell_type": "markdown",
      "metadata": {
        "id": "p1CfPfTBTmHY",
        "colab_type": "text"
      },
      "source": [
        "## Data Loader"
      ]
    },
    {
      "cell_type": "code",
      "metadata": {
        "id": "M9yGfH1QaDx7",
        "colab_type": "code",
        "colab": {}
      },
      "source": [
        "class AksaraBali(Dataset):\n",
        "    def __init__(self, csv_file, root_dir, height=224, width=224, transform=None):\n",
        "        self.annotations = pd.read_csv(csv_file, header=None)\n",
        "        self.root_dir = root_dir\n",
        "        self.transform = transform\n",
        "        self.height = height\n",
        "        self.width = width\n",
        "       \n",
        "    def __len__(self):\n",
        "        return len(self.annotations)\n",
        "    \n",
        "    def __getitem__(self, index):\n",
        "        img_path = os.path.join(self.root_dir, self.annotations.iloc[index,0])\n",
        "        image = Image.open(img_path).resize((self.height, self.width))\n",
        "        y_label = torch.tensor(self.annotations.iloc[index,2], dtype=torch.long)\n",
        "        \n",
        "        if self.transform:\n",
        "            image = self.transform(image)\n",
        "            \n",
        "        return(image, y_label)"
      ],
      "execution_count": 6,
      "outputs": []
    },
    {
      "cell_type": "markdown",
      "metadata": {
        "id": "WUd8DXpITmHe",
        "colab_type": "text"
      },
      "source": [
        "## Set Training Params"
      ]
    },
    {
      "cell_type": "code",
      "metadata": {
        "id": "P2ApqPIeTmHf",
        "colab_type": "code",
        "colab": {}
      },
      "source": [
        "in_channel = 3\n",
        "num_classes = 133\n",
        "learning_rate = 0.004\n",
        "batch_size = 64\n",
        "\n",
        "# tranform\n",
        "my_transform = transforms.Compose([transforms.ToTensor(),\n",
        "                                   transforms.Normalize(mean=(0.5005, 0.4670, 0.4174), \n",
        "                                                        std=(0.0813, 0.0534, 0.0932))])\n",
        "\n",
        "train_set = AksaraBali(\n",
        "    csv_file=\"gdrive/My Drive/Colab Notebooks/dataset/Aksara Bali/train_label.csv\",\n",
        "    root_dir=\"train\",\n",
        "    transform=my_transform\n",
        "    )\n",
        "\n",
        "test_set = AksaraBali(\n",
        "    csv_file=\"gdrive/My Drive/Colab Notebooks/dataset/Aksara Bali/test_label.csv\",\n",
        "    root_dir=\"test\",\n",
        "    transform=my_transform\n",
        "    )\n",
        "\n",
        "#train_set = torch.utils.data(dataset)\n",
        "train_loader = DataLoader(\n",
        "    dataset=train_set,\n",
        "    batch_size=batch_size,\n",
        "    shuffle=True\n",
        "    )\n",
        "\n",
        "test_loader = DataLoader(\n",
        "    dataset=test_set,\n",
        "    shuffle=False,\n",
        "    batch_size=batch_size)\n",
        "#test_loader = DataLoader(dataset=test_set, batch_size=batch_size, shuffle=True)"
      ],
      "execution_count": 7,
      "outputs": []
    },
    {
      "cell_type": "code",
      "metadata": {
        "id": "TL2urpO9swZE",
        "colab_type": "code",
        "colab": {
          "base_uri": "https://localhost:8080/",
          "height": 82,
          "referenced_widgets": [
            "7600532dc32f4c26bace76b7ce583373",
            "e1250a2d66b646e2b63e53e88b0142a3",
            "37438450a1944238afe2d7df299d0d16",
            "e0ba9b81f7eb481abc73550857d991da",
            "646f424f44f94840909ed3f745fb7a58",
            "43c1600431c14200808b52ee56d629e1",
            "c56fbf55814b4fc9a124af499bf38b04",
            "3398ee91b1e647278c6276a23306ca9c"
          ]
        },
        "outputId": "3bb9c9ed-744e-40ce-a2d1-8a962b0a7593"
      },
      "source": [
        "def import_models(str_model_name):\n",
        "  if str_model_name == \"resnet\":\n",
        "    model = torchvision.models.resnet152(pretrained=True)\n",
        "  elif str_model_name == \"vgg\": # Kurang cocok, tapi belum coba varian vgg yg lain, tapi kyknya sama aja.\n",
        "    model = torchvision.models.vgg16(pretrained=True) \n",
        "  elif str_model_name == \"mobilenet\":\n",
        "    model = torchvision.models.mobilenet_v2(pretrained=True)\n",
        "  elif str_model_name == \"inception\": # tidak kompatible dgn input channel, perlu input 5x5\n",
        "    model = torchvision.models.inception_v3(pretrained=True)\n",
        "  elif str_model_name == \"squeezenet\":\n",
        "    model = torchvision.models.squeezenet1_1(pretrained=True)\n",
        "  elif str_model_name == \"densenet\": # semua jenis densenet --> GPU out of memory\n",
        "    model = torchvision.models.densenet121(pretrained=True)\n",
        "\n",
        "  return model\n",
        "\n",
        "str_model_name = \"mobilenet\"\n",
        "model = import_models(str_model_name)"
      ],
      "execution_count": 8,
      "outputs": [
        {
          "output_type": "stream",
          "text": [
            "Downloading: \"https://download.pytorch.org/models/mobilenet_v2-b0353104.pth\" to /root/.cache/torch/hub/checkpoints/mobilenet_v2-b0353104.pth\n"
          ],
          "name": "stderr"
        },
        {
          "output_type": "display_data",
          "data": {
            "application/vnd.jupyter.widget-view+json": {
              "model_id": "7600532dc32f4c26bace76b7ce583373",
              "version_minor": 0,
              "version_major": 2
            },
            "text/plain": [
              "HBox(children=(FloatProgress(value=0.0, max=14212972.0), HTML(value='')))"
            ]
          },
          "metadata": {
            "tags": []
          }
        },
        {
          "output_type": "stream",
          "text": [
            "\n"
          ],
          "name": "stdout"
        }
      ]
    },
    {
      "cell_type": "code",
      "metadata": {
        "id": "pUvKVqk2w5jw",
        "colab_type": "code",
        "colab": {}
      },
      "source": [
        "gpu = torch.device(\"cuda:0\" if torch.cuda.is_available() else \"cpu\")\n",
        "model.to(gpu)\n",
        "\n",
        "criterion = nn.CrossEntropyLoss()\n",
        "optimizer = optim.Adam(model.parameters(), lr=learning_rate)"
      ],
      "execution_count": 9,
      "outputs": []
    },
    {
      "cell_type": "markdown",
      "metadata": {
        "id": "9GRipDIsTmHm",
        "colab_type": "text"
      },
      "source": [
        "# Train Model pakai Pytorch Ignite\n",
        "\n",
        "Inisiasi Training dan Evaluation Engine"
      ]
    },
    {
      "cell_type": "code",
      "metadata": {
        "id": "m9ui6FcMTmHm",
        "colab_type": "code",
        "colab": {}
      },
      "source": [
        "epochs = 100\n",
        "trainer = create_supervised_trainer(model, optimizer, criterion, device=gpu)\n",
        "metrics = {\n",
        "    \"accuracy\": Accuracy(),\n",
        "    \"loss\": Loss(criterion)\n",
        "}\n",
        "train_evaluator = create_supervised_evaluator(model, metrics=metrics, device=gpu)\n",
        "val_evaluator = create_supervised_evaluator(model, metrics=metrics, device=gpu)\n",
        "training_history = {\"accuracy\":[], \"loss\":[]}\n",
        "validation_history = {\"accuracy\":[], \"loss\":[]}\n",
        "last_epoch = []"
      ],
      "execution_count": 10,
      "outputs": []
    },
    {
      "cell_type": "markdown",
      "metadata": {
        "id": "Gcm3ctomTmHp",
        "colab_type": "text"
      },
      "source": [
        "### Metrics - `RunningAverage`"
      ]
    },
    {
      "cell_type": "code",
      "metadata": {
        "id": "D37VuYdqTmHp",
        "colab_type": "code",
        "colab": {}
      },
      "source": [
        "RunningAverage(output_transform=lambda x: x).attach(trainer, \"loss\")"
      ],
      "execution_count": 11,
      "outputs": []
    },
    {
      "cell_type": "markdown",
      "metadata": {
        "id": "IUc7JJp0TmHs",
        "colab_type": "text"
      },
      "source": [
        "### `EarlyStopping` Callbacks"
      ]
    },
    {
      "cell_type": "code",
      "metadata": {
        "id": "jENGdRK8TmHt",
        "colab_type": "code",
        "colab": {
          "base_uri": "https://localhost:8080/",
          "height": 33
        },
        "outputId": "aef38847-2d03-4d75-d802-69623579ab35"
      },
      "source": [
        "def score_function(engine):\n",
        "  val_loss = engine.state.metrics[\"loss\"]\n",
        "  return -val_loss\n",
        "\n",
        "handler = EarlyStopping(patience=20, score_function=score_function, trainer=trainer)\n",
        "val_evaluator.add_event_handler(Events.COMPLETED, handler)"
      ],
      "execution_count": 12,
      "outputs": [
        {
          "output_type": "execute_result",
          "data": {
            "text/plain": [
              "<ignite.engine.events.RemovableEventHandle at 0x7f9e4cdb75f8>"
            ]
          },
          "metadata": {
            "tags": []
          },
          "execution_count": 12
        }
      ]
    },
    {
      "cell_type": "markdown",
      "metadata": {
        "id": "cqT9BgKvTmHv",
        "colab_type": "text"
      },
      "source": [
        "### Buat Custom Function\n",
        "Custom function dibuat untuk menghubungkan dengan dua event yaitu, event saat training dan event saat evaluation."
      ]
    },
    {
      "cell_type": "code",
      "metadata": {
        "id": "22SY-2WXTmHw",
        "colab_type": "code",
        "colab": {
          "base_uri": "https://localhost:8080/",
          "height": 33
        },
        "outputId": "397c2a51-fbb2-4957-fd59-49e16689821e"
      },
      "source": [
        "@trainer.on(Events.EPOCH_COMPLETED)\n",
        "def log_training_results(trainer):\n",
        "  train_evaluator.run(train_loader)\n",
        "  metrics = train_evaluator.state.metrics\n",
        "  accuracy = metrics[\"accuracy\"] * 100\n",
        "  loss = metrics[\"loss\"]\n",
        "  last_epoch.append(0)\n",
        "  training_history[\"accuracy\"].append(accuracy)\n",
        "  training_history[\"loss\"].append(loss)\n",
        "  print(\"Training Results - Epochs: {} Avg. Accuracy: {:.2f} Avg. Loss: {:.2f}\"\n",
        "        .format(trainer.state.epoch, accuracy, loss))\n",
        "  \n",
        "def log_validation_results(trainer):\n",
        "  val_evaluator.run(test_loader)\n",
        "  metrics = val_evaluator.state.metrics\n",
        "  accuracy = metrics['accuracy']*100\n",
        "  loss = metrics['loss']\n",
        "  validation_history['accuracy'].append(accuracy)\n",
        "  validation_history['loss'].append(loss)\n",
        "  print(\"Validation Results - Epoch: {}  Avg accuracy: {:.2f} Avg loss: {:.2f}\"\n",
        "        .format(trainer.state.epoch, accuracy, loss))\n",
        "  \n",
        "trainer.add_event_handler(Events.EPOCH_COMPLETED, log_validation_results)"
      ],
      "execution_count": 13,
      "outputs": [
        {
          "output_type": "execute_result",
          "data": {
            "text/plain": [
              "<ignite.engine.events.RemovableEventHandle at 0x7f9e4d574908>"
            ]
          },
          "metadata": {
            "tags": []
          },
          "execution_count": 13
        }
      ]
    },
    {
      "cell_type": "markdown",
      "metadata": {
        "id": "T41KRW0xTmHz",
        "colab_type": "text"
      },
      "source": [
        "### Model Checkpoint"
      ]
    },
    {
      "cell_type": "code",
      "metadata": {
        "id": "YBcWUv3aTmHz",
        "colab_type": "code",
        "colab": {
          "base_uri": "https://localhost:8080/",
          "height": 33
        },
        "outputId": "5cdc4e05-c119-4665-e84d-fe36c8ecab1d"
      },
      "source": [
        "checkpointer = ModelCheckpoint(\"./saved_models\", \"aksarabali_\", n_saved=5, \n",
        "                               create_dir=True, save_as_state_dict=True, \n",
        "                               require_empty=False)\n",
        "trainer.add_event_handler(Events.EPOCH_COMPLETED, checkpointer, {str_model_name: model})"
      ],
      "execution_count": 14,
      "outputs": [
        {
          "output_type": "execute_result",
          "data": {
            "text/plain": [
              "<ignite.engine.events.RemovableEventHandle at 0x7f9e4cdb7710>"
            ]
          },
          "metadata": {
            "tags": []
          },
          "execution_count": 14
        }
      ]
    },
    {
      "cell_type": "markdown",
      "metadata": {
        "id": "S_ttqv8zTmH4",
        "colab_type": "text"
      },
      "source": [
        "### Run the Engine"
      ]
    },
    {
      "cell_type": "code",
      "metadata": {
        "id": "HrRbQ5xnTmH5",
        "colab_type": "code",
        "colab": {
          "base_uri": "https://localhost:8080/",
          "height": 1000
        },
        "outputId": "43af6649-7742-470e-e8aa-303d69327731"
      },
      "source": [
        "trainer.run(train_loader, max_epochs=epochs)"
      ],
      "execution_count": 15,
      "outputs": [
        {
          "output_type": "stream",
          "text": [
            "Training Results - Epochs: 1 Avg. Accuracy: 68.71 Avg. Loss: 1.10\n",
            "Validation Results - Epoch: 1  Avg accuracy: 66.02 Avg loss: 1.22\n",
            "Training Results - Epochs: 2 Avg. Accuracy: 85.52 Avg. Loss: 0.49\n",
            "Validation Results - Epoch: 2  Avg accuracy: 80.42 Avg loss: 0.71\n",
            "Training Results - Epochs: 3 Avg. Accuracy: 91.34 Avg. Loss: 0.29\n",
            "Validation Results - Epoch: 3  Avg accuracy: 82.81 Avg loss: 0.63\n",
            "Training Results - Epochs: 4 Avg. Accuracy: 91.68 Avg. Loss: 0.28\n",
            "Validation Results - Epoch: 4  Avg accuracy: 83.68 Avg loss: 0.62\n",
            "Training Results - Epochs: 5 Avg. Accuracy: 91.88 Avg. Loss: 0.27\n",
            "Validation Results - Epoch: 5  Avg accuracy: 83.29 Avg loss: 0.65\n",
            "Training Results - Epochs: 6 Avg. Accuracy: 92.37 Avg. Loss: 0.25\n",
            "Validation Results - Epoch: 6  Avg accuracy: 86.13 Avg loss: 0.55\n",
            "Training Results - Epochs: 7 Avg. Accuracy: 92.35 Avg. Loss: 0.24\n",
            "Validation Results - Epoch: 7  Avg accuracy: 83.59 Avg loss: 0.61\n",
            "Training Results - Epochs: 8 Avg. Accuracy: 94.48 Avg. Loss: 0.18\n",
            "Validation Results - Epoch: 8  Avg accuracy: 86.38 Avg loss: 0.56\n",
            "Training Results - Epochs: 9 Avg. Accuracy: 95.10 Avg. Loss: 0.16\n",
            "Validation Results - Epoch: 9  Avg accuracy: 84.67 Avg loss: 0.62\n",
            "Training Results - Epochs: 10 Avg. Accuracy: 94.26 Avg. Loss: 0.19\n",
            "Validation Results - Epoch: 10  Avg accuracy: 84.35 Avg loss: 0.65\n",
            "Training Results - Epochs: 11 Avg. Accuracy: 96.42 Avg. Loss: 0.11\n",
            "Validation Results - Epoch: 11  Avg accuracy: 87.32 Avg loss: 0.53\n",
            "Training Results - Epochs: 12 Avg. Accuracy: 94.63 Avg. Loss: 0.17\n",
            "Validation Results - Epoch: 12  Avg accuracy: 86.02 Avg loss: 0.58\n",
            "Training Results - Epochs: 13 Avg. Accuracy: 91.45 Avg. Loss: 0.30\n",
            "Validation Results - Epoch: 13  Avg accuracy: 83.33 Avg loss: 0.72\n",
            "Training Results - Epochs: 14 Avg. Accuracy: 97.11 Avg. Loss: 0.09\n",
            "Validation Results - Epoch: 14  Avg accuracy: 88.37 Avg loss: 0.51\n",
            "Training Results - Epochs: 15 Avg. Accuracy: 96.67 Avg. Loss: 0.10\n",
            "Validation Results - Epoch: 15  Avg accuracy: 87.01 Avg loss: 0.53\n",
            "Training Results - Epochs: 16 Avg. Accuracy: 96.88 Avg. Loss: 0.10\n",
            "Validation Results - Epoch: 16  Avg accuracy: 88.24 Avg loss: 0.52\n",
            "Training Results - Epochs: 17 Avg. Accuracy: 96.26 Avg. Loss: 0.12\n",
            "Validation Results - Epoch: 17  Avg accuracy: 87.01 Avg loss: 0.57\n",
            "Training Results - Epochs: 18 Avg. Accuracy: 98.29 Avg. Loss: 0.05\n",
            "Validation Results - Epoch: 18  Avg accuracy: 89.55 Avg loss: 0.48\n",
            "Training Results - Epochs: 19 Avg. Accuracy: 98.50 Avg. Loss: 0.05\n",
            "Validation Results - Epoch: 19  Avg accuracy: 89.95 Avg loss: 0.46\n",
            "Training Results - Epochs: 20 Avg. Accuracy: 98.15 Avg. Loss: 0.06\n",
            "Validation Results - Epoch: 20  Avg accuracy: 88.95 Avg loss: 0.54\n",
            "Training Results - Epochs: 21 Avg. Accuracy: 98.20 Avg. Loss: 0.06\n",
            "Validation Results - Epoch: 21  Avg accuracy: 88.87 Avg loss: 0.52\n",
            "Training Results - Epochs: 22 Avg. Accuracy: 98.35 Avg. Loss: 0.05\n",
            "Validation Results - Epoch: 22  Avg accuracy: 89.39 Avg loss: 0.52\n",
            "Training Results - Epochs: 23 Avg. Accuracy: 98.27 Avg. Loss: 0.05\n",
            "Validation Results - Epoch: 23  Avg accuracy: 88.53 Avg loss: 0.51\n",
            "Training Results - Epochs: 24 Avg. Accuracy: 99.00 Avg. Loss: 0.04\n",
            "Validation Results - Epoch: 24  Avg accuracy: 89.53 Avg loss: 0.49\n",
            "Training Results - Epochs: 25 Avg. Accuracy: 99.04 Avg. Loss: 0.03\n",
            "Validation Results - Epoch: 25  Avg accuracy: 89.63 Avg loss: 0.50\n",
            "Training Results - Epochs: 26 Avg. Accuracy: 98.59 Avg. Loss: 0.04\n",
            "Validation Results - Epoch: 26  Avg accuracy: 89.40 Avg loss: 0.52\n",
            "Training Results - Epochs: 27 Avg. Accuracy: 97.70 Avg. Loss: 0.07\n",
            "Validation Results - Epoch: 27  Avg accuracy: 86.65 Avg loss: 0.62\n",
            "Training Results - Epochs: 28 Avg. Accuracy: 98.95 Avg. Loss: 0.03\n",
            "Validation Results - Epoch: 28  Avg accuracy: 89.40 Avg loss: 0.52\n",
            "Training Results - Epochs: 29 Avg. Accuracy: 98.93 Avg. Loss: 0.03\n",
            "Validation Results - Epoch: 29  Avg accuracy: 89.26 Avg loss: 0.53\n",
            "Training Results - Epochs: 30 Avg. Accuracy: 98.83 Avg. Loss: 0.04\n",
            "Validation Results - Epoch: 30  Avg accuracy: 89.35 Avg loss: 0.51\n",
            "Training Results - Epochs: 31 Avg. Accuracy: 99.05 Avg. Loss: 0.03\n",
            "Validation Results - Epoch: 31  Avg accuracy: 89.26 Avg loss: 0.56\n",
            "Training Results - Epochs: 32 Avg. Accuracy: 98.53 Avg. Loss: 0.05\n",
            "Validation Results - Epoch: 32  Avg accuracy: 88.48 Avg loss: 0.61\n",
            "Training Results - Epochs: 33 Avg. Accuracy: 99.09 Avg. Loss: 0.03\n",
            "Validation Results - Epoch: 33  Avg accuracy: 89.80 Avg loss: 0.53\n",
            "Training Results - Epochs: 34 Avg. Accuracy: 99.42 Avg. Loss: 0.02\n",
            "Validation Results - Epoch: 34  Avg accuracy: 89.99 Avg loss: 0.54\n",
            "Training Results - Epochs: 35 Avg. Accuracy: 99.05 Avg. Loss: 0.03\n",
            "Validation Results - Epoch: 35  Avg accuracy: 88.90 Avg loss: 0.59\n",
            "Training Results - Epochs: 36 Avg. Accuracy: 98.53 Avg. Loss: 0.05\n",
            "Validation Results - Epoch: 36  Avg accuracy: 89.16 Avg loss: 0.59\n",
            "Training Results - Epochs: 37 Avg. Accuracy: 99.21 Avg. Loss: 0.02\n",
            "Validation Results - Epoch: 37  Avg accuracy: 89.00 Avg loss: 0.58\n",
            "Training Results - Epochs: 38 Avg. Accuracy: 99.53 Avg. Loss: 0.02\n",
            "Validation Results - Epoch: 38  Avg accuracy: 90.16 Avg loss: 0.53\n",
            "Training Results - Epochs: 39 Avg. Accuracy: 99.15 Avg. Loss: 0.03\n",
            "Validation Results - Epoch: 39  Avg accuracy: 89.50 Avg loss: 0.57\n"
          ],
          "name": "stdout"
        },
        {
          "output_type": "execute_result",
          "data": {
            "text/plain": [
              "State:\n",
              "\titeration: 16224\n",
              "\tepoch: 39\n",
              "\tepoch_length: 416\n",
              "\tmax_epochs: 100\n",
              "\toutput: 0.049807142466306686\n",
              "\tbatch: <class 'list'>\n",
              "\tmetrics: <class 'dict'>\n",
              "\tdataloader: <class 'torch.utils.data.dataloader.DataLoader'>\n",
              "\tseed: <class 'NoneType'>\n",
              "\ttimes: <class 'dict'>"
            ]
          },
          "metadata": {
            "tags": []
          },
          "execution_count": 15
        }
      ]
    },
    {
      "cell_type": "markdown",
      "metadata": {
        "id": "7U18XeABTmH7",
        "colab_type": "text"
      },
      "source": [
        "### Plot loss dan accuracy"
      ]
    },
    {
      "cell_type": "code",
      "metadata": {
        "id": "hDKkTajDTmH8",
        "colab_type": "code",
        "colab": {
          "base_uri": "https://localhost:8080/",
          "height": 541
        },
        "outputId": "97632de9-a08c-4dbc-8923-0dfa4172bd84"
      },
      "source": [
        "# Accuracy\n",
        "import matplotlib.pyplot as plt\n",
        "\n",
        "plt.plot(training_history[\"accuracy\"], label=\"Training Accuracy\")\n",
        "plt.plot(validation_history[\"accuracy\"], label=\"Validation Accuracy\")\n",
        "plt.xlabel(\"Num. of Epochs\")\n",
        "plt.ylabel(\"Accuracy\")\n",
        "plt.legend(frameon=False)\n",
        "plt.show()\n",
        "\n",
        "# Loss\n",
        "plt.plot(training_history[\"loss\"], label=\"Training Accuracy\")\n",
        "plt.plot(validation_history[\"loss\"], label=\"Validation Accuracy\")\n",
        "plt.xlabel(\"Num. of Epochs\")\n",
        "plt.ylabel(\"Loss\")\n",
        "plt.legend(frameon=False)\n",
        "plt.show()"
      ],
      "execution_count": 16,
      "outputs": [
        {
          "output_type": "display_data",
          "data": {
            "image/png": "[encoded data removed]",
            "text/plain": [
              "<Figure size 432x288 with 1 Axes>"
            ]
          },
          "metadata": {
            "tags": [],
            "needs_background": "light"
          }
        },
        {
          "output_type": "display_data",
          "data": {
            "image/png": "[encoded data removed]",
            "text/plain": [
              "<Figure size 432x288 with 1 Axes>"
            ]
          },
          "metadata": {
            "tags": [],
            "needs_background": "light"
          }
        }
      ]
    },
    {
      "cell_type": "markdown",
      "metadata": {
        "id": "_68fHXrkTmH-",
        "colab_type": "text"
      },
      "source": [
        "### Loading the saved model from the disk"
      ]
    },
    {
      "cell_type": "code",
      "metadata": {
        "id": "1Tp4w4VnTmH_",
        "colab_type": "code",
        "colab": {
          "base_uri": "https://localhost:8080/",
          "height": 33
        },
        "outputId": "9ea2e9c8-a294-4c8f-eb43-23e4225eebff"
      },
      "source": [
        "# loading the saved model\n",
        "# def fetch_last_checkpoint_model_filename(model_save_path):\n",
        "#     import os\n",
        "#     checkpoint_files = os.listdir(model_save_path)\n",
        "#     checkpoint_files = [f for f in checkpoint_files if '.pth' in f]\n",
        "#     checkpoint_iter = [\n",
        "#         int(x.split('_')[2].split('.')[0])\n",
        "#         for x in checkpoint_files]\n",
        "#     last_idx = np.array(checkpoint_iter).argmax()\n",
        "#     return os.path.join(model_save_path, checkpoint_files[last_idx])\n",
        "\n",
        "# model.load_state_dict(torch.load(fetch_last_checkpoint_model_filename('./saved_models')))\n",
        "# model.load_state_dict(torch.load('./saved_models/aksarabali_aksarabali_11256.pt'))\n",
        "print(\"Model Loaded\")"
      ],
      "execution_count": 17,
      "outputs": [
        {
          "output_type": "stream",
          "text": [
            "Model Loaded\n"
          ],
          "name": "stdout"
        }
      ]
    }
  ]
}